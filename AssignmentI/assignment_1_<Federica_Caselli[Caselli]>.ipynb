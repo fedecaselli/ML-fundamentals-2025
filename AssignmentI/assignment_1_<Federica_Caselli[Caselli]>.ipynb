{
 "cells": [
  {
   "cell_type": "markdown",
   "metadata": {},
   "source": [
    "# Titanic Passenger Survival Prediction"
   ]
  },
  {
   "cell_type": "code",
   "execution_count": 4390,
   "metadata": {},
   "outputs": [],
   "source": [
    "import sklearn\n",
    "import pandas as pd\n",
    "import numpy as np\n",
    "import seaborn as sns                      \n",
    "import matplotlib.pyplot as plt  \n",
    "from sklearn.model_selection import train_test_split          \n",
    "from sklearn.linear_model import LogisticRegression\n",
    "from sklearn.metrics import accuracy_score, classification_report, confusion_matrix\n",
    "from imblearn.over_sampling import SMOTE, ADASYN\n",
    "from sklearn.model_selection import train_test_split\n",
    "from sklearn.preprocessing import StandardScaler\n",
    "from sklearn.preprocessing import LabelEncoder\n",
    "\n",
    "\n",
    "from sklearn.preprocessing import OneHotEncoder, LabelEncoder\n"
   ]
  },
  {
   "cell_type": "code",
   "execution_count": 4391,
   "metadata": {},
   "outputs": [],
   "source": [
    "#como hay clas imbalance ver como hacer bien los graficos \n",
    "#Ver si pasar age a distintos grupos tipo 0-10, 10-20 o hacer rounding\n",
    "#cuanta gente tiene floating point sin ser aquellos de 0 a 1\n",
    "#como solo importa en age si sobreviviste si sos muy chico o muy grande capaz es mejor hacer distintos grupos -> corroborar con la diferencia entre survived y deceased en cada age\n",
    "#Ver que hacer con fate (lo mismo que age)\n",
    "\n",
    "\n",
    "#Hacer un loop que pruebe todas las combinaciones posibles y me diga cual es la mejor combinacion \n",
    "#L1 regularization y te da los features necesarios -> ponerle todas hasta las nuevas columnas creadas"
   ]
  },
  {
   "cell_type": "markdown",
   "metadata": {},
   "source": [
    "## 1.  Data Loading and Initial Exploration \n"
   ]
  },
  {
   "cell_type": "markdown",
   "metadata": {},
   "source": [
    "● Are data accessible?\n",
    "\n",
    "\n",
    "○ Existence: the dataset is available in an Excel format.\n",
    "\n",
    "○ Access to the data: it has been downloaded from Kaggle, a well-known platform for machine-learning datasets\n",
    "\n",
    "○ Availability: the data has been provided by the professor, so there is no need to generate it.\n",
    "\n",
    "○ Copyright, Legal permission, anonymity, or redistribution: the dataset license is unknown, its legal status for redistribution and commercialization is unclear. However, since this project is for academic purposes it should be acceptable.\n",
    "\n",
    "○ Issues of privacy or confidentiality: passengers' information is publicly available over historical records so there are no confidentiality issues.\n",
    "\n",
    "○ Generation rate: direct or by proxy (e.g., labelers, 3rd party providers): the source is unknown, there has not been updates for 5 years so it might be incomplete or out-of-date."
   ]
  },
  {
   "cell_type": "markdown",
   "metadata": {},
   "source": [
    "● Do we know whether data are reliable? Can we trust the labels? \n",
    "According to Wikipedia there were 2,225 passengers aboard the RMS Titanic, which sank after colliding with an iceberg in the Atlantic Ocean while en route to New York City. Only 712 of the 2,225 people on board (counting passengers and crew) survived.\n",
    "\n",
    "\n",
    "○ We can perform (manual, automated) validation of quality on a subset of the data.\n",
    "○ Are labels delayed? We observe labels now but use them to predict far future events.\n",
    "○ Are labels indirect? Indicates a weak correlation with the prediction target (e.g., page interest)"
   ]
  },
  {
   "cell_type": "markdown",
   "metadata": {},
   "source": [
    "### OVERVIEW"
   ]
  },
  {
   "cell_type": "markdown",
   "metadata": {},
   "source": [
    "Dependent Variable: Survived\n",
    "\n",
    "Independent variables: name, sex, age, sibsp, parch, ticket, fate, cabin, embarked, boat, body, home.dest."
   ]
  },
  {
   "cell_type": "code",
   "execution_count": 4392,
   "metadata": {},
   "outputs": [
    {
     "data": {
      "text/html": [
       "<div>\n",
       "<style scoped>\n",
       "    .dataframe tbody tr th:only-of-type {\n",
       "        vertical-align: middle;\n",
       "    }\n",
       "\n",
       "    .dataframe tbody tr th {\n",
       "        vertical-align: top;\n",
       "    }\n",
       "\n",
       "    .dataframe thead th {\n",
       "        text-align: right;\n",
       "    }\n",
       "</style>\n",
       "<table border=\"1\" class=\"dataframe\">\n",
       "  <thead>\n",
       "    <tr style=\"text-align: right;\">\n",
       "      <th></th>\n",
       "      <th>pclass</th>\n",
       "      <th>survived</th>\n",
       "      <th>name</th>\n",
       "      <th>sex</th>\n",
       "      <th>age</th>\n",
       "      <th>sibsp</th>\n",
       "      <th>parch</th>\n",
       "      <th>ticket</th>\n",
       "      <th>fare</th>\n",
       "      <th>cabin</th>\n",
       "      <th>embarked</th>\n",
       "      <th>boat</th>\n",
       "      <th>body</th>\n",
       "      <th>home.dest</th>\n",
       "    </tr>\n",
       "  </thead>\n",
       "  <tbody>\n",
       "    <tr>\n",
       "      <th>0</th>\n",
       "      <td>1</td>\n",
       "      <td>1</td>\n",
       "      <td>Allen, Miss. Elisabeth Walton</td>\n",
       "      <td>female</td>\n",
       "      <td>29.0000</td>\n",
       "      <td>0</td>\n",
       "      <td>0</td>\n",
       "      <td>24160</td>\n",
       "      <td>211.3375</td>\n",
       "      <td>B5</td>\n",
       "      <td>S</td>\n",
       "      <td>2</td>\n",
       "      <td>NaN</td>\n",
       "      <td>St Louis, MO</td>\n",
       "    </tr>\n",
       "    <tr>\n",
       "      <th>1</th>\n",
       "      <td>1</td>\n",
       "      <td>1</td>\n",
       "      <td>Allison, Master. Hudson Trevor</td>\n",
       "      <td>male</td>\n",
       "      <td>0.9167</td>\n",
       "      <td>1</td>\n",
       "      <td>2</td>\n",
       "      <td>113781</td>\n",
       "      <td>151.5500</td>\n",
       "      <td>C22 C26</td>\n",
       "      <td>S</td>\n",
       "      <td>11</td>\n",
       "      <td>NaN</td>\n",
       "      <td>Montreal, PQ / Chesterville, ON</td>\n",
       "    </tr>\n",
       "    <tr>\n",
       "      <th>2</th>\n",
       "      <td>1</td>\n",
       "      <td>0</td>\n",
       "      <td>Allison, Miss. Helen Loraine</td>\n",
       "      <td>female</td>\n",
       "      <td>2.0000</td>\n",
       "      <td>1</td>\n",
       "      <td>2</td>\n",
       "      <td>113781</td>\n",
       "      <td>151.5500</td>\n",
       "      <td>C22 C26</td>\n",
       "      <td>S</td>\n",
       "      <td>NaN</td>\n",
       "      <td>NaN</td>\n",
       "      <td>Montreal, PQ / Chesterville, ON</td>\n",
       "    </tr>\n",
       "    <tr>\n",
       "      <th>3</th>\n",
       "      <td>1</td>\n",
       "      <td>0</td>\n",
       "      <td>Allison, Mr. Hudson Joshua Creighton</td>\n",
       "      <td>male</td>\n",
       "      <td>30.0000</td>\n",
       "      <td>1</td>\n",
       "      <td>2</td>\n",
       "      <td>113781</td>\n",
       "      <td>151.5500</td>\n",
       "      <td>C22 C26</td>\n",
       "      <td>S</td>\n",
       "      <td>NaN</td>\n",
       "      <td>135.0</td>\n",
       "      <td>Montreal, PQ / Chesterville, ON</td>\n",
       "    </tr>\n",
       "    <tr>\n",
       "      <th>4</th>\n",
       "      <td>1</td>\n",
       "      <td>0</td>\n",
       "      <td>Allison, Mrs. Hudson J C (Bessie Waldo Daniels)</td>\n",
       "      <td>female</td>\n",
       "      <td>25.0000</td>\n",
       "      <td>1</td>\n",
       "      <td>2</td>\n",
       "      <td>113781</td>\n",
       "      <td>151.5500</td>\n",
       "      <td>C22 C26</td>\n",
       "      <td>S</td>\n",
       "      <td>NaN</td>\n",
       "      <td>NaN</td>\n",
       "      <td>Montreal, PQ / Chesterville, ON</td>\n",
       "    </tr>\n",
       "  </tbody>\n",
       "</table>\n",
       "</div>"
      ],
      "text/plain": [
       "   pclass  survived                                             name     sex  \\\n",
       "0       1         1                    Allen, Miss. Elisabeth Walton  female   \n",
       "1       1         1                   Allison, Master. Hudson Trevor    male   \n",
       "2       1         0                     Allison, Miss. Helen Loraine  female   \n",
       "3       1         0             Allison, Mr. Hudson Joshua Creighton    male   \n",
       "4       1         0  Allison, Mrs. Hudson J C (Bessie Waldo Daniels)  female   \n",
       "\n",
       "       age  sibsp  parch  ticket      fare    cabin embarked boat   body  \\\n",
       "0  29.0000      0      0   24160  211.3375       B5        S    2    NaN   \n",
       "1   0.9167      1      2  113781  151.5500  C22 C26        S   11    NaN   \n",
       "2   2.0000      1      2  113781  151.5500  C22 C26        S  NaN    NaN   \n",
       "3  30.0000      1      2  113781  151.5500  C22 C26        S  NaN  135.0   \n",
       "4  25.0000      1      2  113781  151.5500  C22 C26        S  NaN    NaN   \n",
       "\n",
       "                         home.dest  \n",
       "0                     St Louis, MO  \n",
       "1  Montreal, PQ / Chesterville, ON  \n",
       "2  Montreal, PQ / Chesterville, ON  \n",
       "3  Montreal, PQ / Chesterville, ON  \n",
       "4  Montreal, PQ / Chesterville, ON  "
      ]
     },
     "execution_count": 4392,
     "metadata": {},
     "output_type": "execute_result"
    }
   ],
   "source": [
    "df = pd.read_excel('titanic3.xls')\n",
    "df.head(5)"
   ]
  },
  {
   "cell_type": "code",
   "execution_count": 4393,
   "metadata": {},
   "outputs": [
    {
     "data": {
      "text/html": [
       "<div>\n",
       "<style scoped>\n",
       "    .dataframe tbody tr th:only-of-type {\n",
       "        vertical-align: middle;\n",
       "    }\n",
       "\n",
       "    .dataframe tbody tr th {\n",
       "        vertical-align: top;\n",
       "    }\n",
       "\n",
       "    .dataframe thead th {\n",
       "        text-align: right;\n",
       "    }\n",
       "</style>\n",
       "<table border=\"1\" class=\"dataframe\">\n",
       "  <thead>\n",
       "    <tr style=\"text-align: right;\">\n",
       "      <th></th>\n",
       "      <th>pclass</th>\n",
       "      <th>survived</th>\n",
       "      <th>name</th>\n",
       "      <th>sex</th>\n",
       "      <th>age</th>\n",
       "      <th>sibsp</th>\n",
       "      <th>parch</th>\n",
       "      <th>ticket</th>\n",
       "      <th>fare</th>\n",
       "      <th>cabin</th>\n",
       "      <th>embarked</th>\n",
       "      <th>boat</th>\n",
       "      <th>body</th>\n",
       "      <th>home.dest</th>\n",
       "    </tr>\n",
       "  </thead>\n",
       "  <tbody>\n",
       "    <tr>\n",
       "      <th>1304</th>\n",
       "      <td>3</td>\n",
       "      <td>0</td>\n",
       "      <td>Zabour, Miss. Hileni</td>\n",
       "      <td>female</td>\n",
       "      <td>14.5</td>\n",
       "      <td>1</td>\n",
       "      <td>0</td>\n",
       "      <td>2665</td>\n",
       "      <td>14.4542</td>\n",
       "      <td>NaN</td>\n",
       "      <td>C</td>\n",
       "      <td>NaN</td>\n",
       "      <td>328.0</td>\n",
       "      <td>NaN</td>\n",
       "    </tr>\n",
       "    <tr>\n",
       "      <th>1305</th>\n",
       "      <td>3</td>\n",
       "      <td>0</td>\n",
       "      <td>Zabour, Miss. Thamine</td>\n",
       "      <td>female</td>\n",
       "      <td>NaN</td>\n",
       "      <td>1</td>\n",
       "      <td>0</td>\n",
       "      <td>2665</td>\n",
       "      <td>14.4542</td>\n",
       "      <td>NaN</td>\n",
       "      <td>C</td>\n",
       "      <td>NaN</td>\n",
       "      <td>NaN</td>\n",
       "      <td>NaN</td>\n",
       "    </tr>\n",
       "    <tr>\n",
       "      <th>1306</th>\n",
       "      <td>3</td>\n",
       "      <td>0</td>\n",
       "      <td>Zakarian, Mr. Mapriededer</td>\n",
       "      <td>male</td>\n",
       "      <td>26.5</td>\n",
       "      <td>0</td>\n",
       "      <td>0</td>\n",
       "      <td>2656</td>\n",
       "      <td>7.2250</td>\n",
       "      <td>NaN</td>\n",
       "      <td>C</td>\n",
       "      <td>NaN</td>\n",
       "      <td>304.0</td>\n",
       "      <td>NaN</td>\n",
       "    </tr>\n",
       "    <tr>\n",
       "      <th>1307</th>\n",
       "      <td>3</td>\n",
       "      <td>0</td>\n",
       "      <td>Zakarian, Mr. Ortin</td>\n",
       "      <td>male</td>\n",
       "      <td>27.0</td>\n",
       "      <td>0</td>\n",
       "      <td>0</td>\n",
       "      <td>2670</td>\n",
       "      <td>7.2250</td>\n",
       "      <td>NaN</td>\n",
       "      <td>C</td>\n",
       "      <td>NaN</td>\n",
       "      <td>NaN</td>\n",
       "      <td>NaN</td>\n",
       "    </tr>\n",
       "    <tr>\n",
       "      <th>1308</th>\n",
       "      <td>3</td>\n",
       "      <td>0</td>\n",
       "      <td>Zimmerman, Mr. Leo</td>\n",
       "      <td>male</td>\n",
       "      <td>29.0</td>\n",
       "      <td>0</td>\n",
       "      <td>0</td>\n",
       "      <td>315082</td>\n",
       "      <td>7.8750</td>\n",
       "      <td>NaN</td>\n",
       "      <td>S</td>\n",
       "      <td>NaN</td>\n",
       "      <td>NaN</td>\n",
       "      <td>NaN</td>\n",
       "    </tr>\n",
       "  </tbody>\n",
       "</table>\n",
       "</div>"
      ],
      "text/plain": [
       "      pclass  survived                       name     sex   age  sibsp  parch  \\\n",
       "1304       3         0       Zabour, Miss. Hileni  female  14.5      1      0   \n",
       "1305       3         0      Zabour, Miss. Thamine  female   NaN      1      0   \n",
       "1306       3         0  Zakarian, Mr. Mapriededer    male  26.5      0      0   \n",
       "1307       3         0        Zakarian, Mr. Ortin    male  27.0      0      0   \n",
       "1308       3         0         Zimmerman, Mr. Leo    male  29.0      0      0   \n",
       "\n",
       "      ticket     fare cabin embarked boat   body home.dest  \n",
       "1304    2665  14.4542   NaN        C  NaN  328.0       NaN  \n",
       "1305    2665  14.4542   NaN        C  NaN    NaN       NaN  \n",
       "1306    2656   7.2250   NaN        C  NaN  304.0       NaN  \n",
       "1307    2670   7.2250   NaN        C  NaN    NaN       NaN  \n",
       "1308  315082   7.8750   NaN        S  NaN    NaN       NaN  "
      ]
     },
     "execution_count": 4393,
     "metadata": {},
     "output_type": "execute_result"
    }
   ],
   "source": [
    "df.tail(5) "
   ]
  },
  {
   "cell_type": "markdown",
   "metadata": {},
   "source": [
    "**Categorical Features:**\n",
    "\n",
    "\n",
    "    survival: \n",
    "Survival status (0 = No, 1 = Yes). \n",
    "\n",
    "Categorical (Binary: 0 or 1)\n",
    "\n",
    "\n",
    "    class: \n",
    "Passenger Class (1 = 1st; 2 = 2nd; 3 = 3rd).\n",
    "\n",
    "Categorical (Ordinal: 1st, 2nd, 3rd class)\n",
    "\n",
    "\n",
    "    name: \n",
    "Name.\n",
    "\n",
    "Categorical (Text, Identifier)\n",
    "\n",
    "\n",
    "    sex: \n",
    "Sex.\n",
    "\n",
    "Categorical (Nominal: Male, Female)\n",
    "\n",
    "    ticket: \n",
    "\n",
    "Ticket Number.\n",
    "\n",
    "Categorical (Text, Identifier)\n",
    "\n",
    "    cabin: \n",
    "Cabin.\n",
    "\n",
    "Cabin is conformed of letters and numbers. Apparently the letter represents the deck where the cabin was located at.\n",
    "\n",
    "Categorical (Text, Identifier)\n",
    "\n",
    "    embarked: \n",
    "Port of Embarkation (C = Cherbourg; Q = Queenstown; S = Southampton).\n",
    "Categorical (Nominal: C, Q, S)\n",
    "\n",
    "    boat: \n",
    "Lifeboat (if survived).\n",
    "\n",
    "Categorical (Nominal: Yes or No, or a specific boat number)\n",
    "\n",
    "    body: \n",
    "Body number (if did not survive and the body was recovered).\n",
    "\n",
    "Categorical (Identifier, could be numeric but represents a categorical feature)\n",
    "\n",
    "**Numerical Features:**\n",
    "\n",
    "    sibsp: \n",
    "Number of Siblings/Spouses Aboard.\n",
    "\n",
    "Numerical (Discrete: Integer)\n",
    "\n",
    "    parch: \n",
    "Number of Parents/Children Aboard.\n",
    "\n",
    "Numerical (Discrete: Integer)\n",
    "\n",
    "    fare: \n",
    "Passenger Fare.\n",
    "\n",
    "Numerical (Continuous: Float/Decimal)"
   ]
  },
  {
   "cell_type": "code",
   "execution_count": 4394,
   "metadata": {},
   "outputs": [
    {
     "data": {
      "text/plain": [
       "(1309, 14)"
      ]
     },
     "execution_count": 4394,
     "metadata": {},
     "output_type": "execute_result"
    }
   ],
   "source": [
    "df.shape"
   ]
  },
  {
   "cell_type": "code",
   "execution_count": 4395,
   "metadata": {},
   "outputs": [
    {
     "data": {
      "text/plain": [
       "pclass         int64\n",
       "survived       int64\n",
       "name          object\n",
       "sex           object\n",
       "age          float64\n",
       "sibsp          int64\n",
       "parch          int64\n",
       "ticket        object\n",
       "fare         float64\n",
       "cabin         object\n",
       "embarked      object\n",
       "boat          object\n",
       "body         float64\n",
       "home.dest     object\n",
       "dtype: object"
      ]
     },
     "execution_count": 4395,
     "metadata": {},
     "output_type": "execute_result"
    }
   ],
   "source": [
    "df.dtypes"
   ]
  },
  {
   "cell_type": "code",
   "execution_count": 4396,
   "metadata": {},
   "outputs": [
    {
     "name": "stdout",
     "output_type": "stream",
     "text": [
      "number of duplicate rows:  (0, 14)\n"
     ]
    }
   ],
   "source": [
    "duplicate_rows_df = df[df.duplicated()]\n",
    "print(\"number of duplicate rows: \", duplicate_rows_df.shape) "
   ]
  },
  {
   "cell_type": "code",
   "execution_count": 4397,
   "metadata": {},
   "outputs": [
    {
     "data": {
      "text/plain": [
       "pclass          3\n",
       "survived        2\n",
       "name         1307\n",
       "sex             2\n",
       "age            98\n",
       "sibsp           7\n",
       "parch           8\n",
       "ticket        939\n",
       "fare          281\n",
       "cabin         186\n",
       "embarked        3\n",
       "boat           28\n",
       "body          121\n",
       "home.dest     369\n",
       "dtype: int64"
      ]
     },
     "execution_count": 4397,
     "metadata": {},
     "output_type": "execute_result"
    }
   ],
   "source": [
    "df.nunique()"
   ]
  },
  {
   "cell_type": "markdown",
   "metadata": {},
   "source": [
    "### VISUALIZATIONS AND EXPLORATORY STATISTICS"
   ]
  },
  {
   "cell_type": "code",
   "execution_count": 4398,
   "metadata": {},
   "outputs": [
    {
     "data": {
      "image/png": "[encoded data removed]",
      "text/plain": [
       "<Figure size 1000x800 with 2 Axes>"
      ]
     },
     "metadata": {},
     "output_type": "display_data"
    }
   ],
   "source": [
    "selected_columns = ['survived', 'parch', 'sibsp']\n",
    "\n",
    "df_selected = df[selected_columns]\n",
    "\n",
    "# Calcular la matriz de correlación entre las columnas seleccionadas\n",
    "correlation_matrix = df_selected.corr()\n",
    "\n",
    "# Visualizar la matriz de correlación con un heatmap\n",
    "import seaborn as sns\n",
    "import matplotlib.pyplot as plt\n",
    "\n",
    "plt.figure(figsize=(10, 8))\n",
    "sns.heatmap(correlation_matrix, annot=True, cmap='coolwarm', fmt='.2f')\n",
    "plt.show()"
   ]
  },
  {
   "cell_type": "markdown",
   "metadata": {},
   "source": [
    "#### Plots"
   ]
  },
  {
   "cell_type": "markdown",
   "metadata": {},
   "source": [
    "Numerical variables: age, sibsp, parch, fate\n",
    "Categorical variables: survived, pclass, sex, ticket, cabin, embarked"
   ]
  },
  {
   "cell_type": "code",
   "execution_count": 4399,
   "metadata": {},
   "outputs": [
    {
     "data": {
      "text/plain": [
       "0    B\n",
       "1    C\n",
       "2    C\n",
       "3    C\n",
       "4    C\n",
       "Name: cabin, dtype: object"
      ]
     },
     "execution_count": 4399,
     "metadata": {},
     "output_type": "execute_result"
    }
   ],
   "source": [
    "#Letter extraction from cabin and missing values\n",
    "df_subset = df[\"cabin\"].dropna().astype(str).str[0]  # first letter\n",
    "df_subset.head()"
   ]
  },
  {
   "cell_type": "code",
   "execution_count": 4400,
   "metadata": {},
   "outputs": [
    {
     "data": {
      "image/png": "[encoded data removed]",
      "text/plain": [
       "<Figure size 1800x1000 with 9 Axes>"
      ]
     },
     "metadata": {},
     "output_type": "display_data"
    }
   ],
   "source": [
    "import seaborn as sns\n",
    "import matplotlib.pyplot as plt\n",
    "\n",
    "sns.set(style=\"whitegrid\")\n",
    "\n",
    "# Subplots\n",
    "fig, axes = plt.subplots(3, 3, figsize=(18, 10))\n",
    "\n",
    "# Distribution Pclass\n",
    "sns.countplot(x='pclass', data=df, ax=axes[0, 0])\n",
    "axes[0, 0].set_title('Passenger Class Distribution')\n",
    "\n",
    "# Distribution Sex\n",
    "sns.countplot(x='sex', data=df, ax=axes[0, 1])\n",
    "axes[0, 1].set_title('Sex Distribution')\n",
    "\n",
    "# Distribution Embarked\n",
    "sns.countplot(x='embarked', data=df, ax=axes[0, 2])\n",
    "axes[0, 2].set_title('Embarked Distribution')\n",
    "\n",
    "#Distribution siblings/spouses\n",
    "sns.countplot(x='sibsp', data=df, ax=axes[1, 0])\n",
    "axes[1, 0].set_title('Siblings/Spouse Distribution')\n",
    "\n",
    "#Distribution parent/children\n",
    "sns.countplot(x='parch', data=df, ax=axes[1, 1])\n",
    "axes[1, 1].set_title('Parent/Children Distribution')\n",
    "\n",
    "#Distribution cabin by letter\n",
    "sns.countplot(x=df_subset, ax=axes[1, 2])\n",
    "axes[1, 2].set_title('Cabin letter Distribution')\n",
    "\n",
    "# Distribution Fare\n",
    "sns.histplot(df['fare'].dropna(), bins=30, ax=axes[2, 0])\n",
    "axes[2, 0].set_title('Fare Distribution')\n",
    "\n",
    "# Distribution Age\n",
    "sns.histplot(df['age'].dropna(), bins=30, ax=axes[2, 1])\n",
    "axes[2, 1].set_title('Age Distribution')\n",
    "\n",
    "\n",
    "plt.tight_layout()\n",
    "plt.show()\n"
   ]
  },
  {
   "cell_type": "markdown",
   "metadata": {},
   "source": [
    "ANALYSIS:\n",
    "\n",
    "Understanding the distribution and balance of classes:\n",
    "\n",
    "Since there are aroun 180 cabins in the dataset I have decided to look at the distribution based on the deck where the cabin was located at.\n"
   ]
  },
  {
   "cell_type": "code",
   "execution_count": 4401,
   "metadata": {},
   "outputs": [
    {
     "data": {
      "image/png": "[encoded data removed]",
      "text/plain": [
       "<Figure size 800x600 with 1 Axes>"
      ]
     },
     "metadata": {},
     "output_type": "display_data"
    }
   ],
   "source": [
    "# Box plot for Fare\n",
    "\n",
    "# Box plot for Age\n",
    "plt.figure(figsize=(8, 6))\n",
    "sns.boxplot(x='age', data=df)\n",
    "plt.title('Age Boxplot')\n",
    "plt.show()"
   ]
  },
  {
   "cell_type": "markdown",
   "metadata": {},
   "source": [
    "COMPARISONS BETWEEN INDEPENDENT VARIABLES AND DEPENDENT VARIABLE"
   ]
  },
  {
   "cell_type": "code",
   "execution_count": 4402,
   "metadata": {},
   "outputs": [
    {
     "data": {
      "image/png": "[encoded data removed]",
      "text/plain": [
       "<Figure size 1000x700 with 1 Axes>"
      ]
     },
     "metadata": {},
     "output_type": "display_data"
    }
   ],
   "source": [
    "survival_counts = df['survived'].value_counts()\n",
    "data = survival_counts.values\n",
    "labels = ['Deceased', 'Survived']\n",
    "\n",
    "fig = plt.figure(figsize=(10, 7))\n",
    "plt.title(\"Survival Rate\")\n",
    "plt.pie(data, labels=labels, autopct='%1.1f%%', colors = ['skyblue', 'lightgreen'])\n",
    "\n",
    "plt.show()"
   ]
  },
  {
   "cell_type": "code",
   "execution_count": 4403,
   "metadata": {},
   "outputs": [
    {
     "data": {
      "image/png": "[encoded data removed]",
      "text/plain": [
       "<Figure size 640x480 with 1 Axes>"
      ]
     },
     "metadata": {},
     "output_type": "display_data"
    }
   ],
   "source": [
    "#Survived\n",
    "plt.hist(df[df['survived'] == 1]['age'].dropna(), bins=20, alpha=0.6, label='Survived', color='lightgreen')\n",
    "\n",
    "# Deceased\n",
    "plt.hist(df[df['survived'] == 0]['age'].dropna(), bins=20, alpha=0.6, label='Deceased', color='skyblue')\n",
    "\n",
    "plt.xlabel('Age')\n",
    "plt.ylabel('Quantity')\n",
    "plt.title('Survival by Age')\n",
    "plt.legend()\n",
    "plt.show()"
   ]
  },
  {
   "cell_type": "markdown",
   "metadata": {},
   "source": [
    "porcentaje del total en vez de quantity porque no representa ya que hay mas deceased que survived"
   ]
  },
  {
   "cell_type": "code",
   "execution_count": 4404,
   "metadata": {},
   "outputs": [],
   "source": [
    "#VER SI HACER EXPLORATORY ANALYSIS DE FAMILY SIZE ACA O DESPUES\n"
   ]
  },
  {
   "cell_type": "code",
   "execution_count": 4405,
   "metadata": {},
   "outputs": [],
   "source": [
    "#df['familysize'] = df['sibsp'] + df['parch'] + 1\n",
    "#plt.figure(figsize=(8, 6))\n",
    "#sns.boxplot(x='familysize', data=df, palette=['lightgreen'])\n",
    "#plt.title('Family Size Box Plot')\n",
    "#plt.show()\n"
   ]
  },
  {
   "cell_type": "code",
   "execution_count": 4406,
   "metadata": {},
   "outputs": [
    {
     "data": {
      "image/png": "[encoded data removed]",
      "text/plain": [
       "<Figure size 1200x1000 with 4 Axes>"
      ]
     },
     "metadata": {},
     "output_type": "display_data"
    }
   ],
   "source": [
    "\n",
    "# Assuming you have already imported and prepared 'df' dataset\n",
    "\n",
    "# Create a figure with multiple subplots (2 rows, 2 columns)\n",
    "fig, axes = plt.subplots(2, 2, figsize=(12, 10))\n",
    "\n",
    "# Plot 1: Survival by Sex (Bar plot)\n",
    "counts = df.groupby(['sex', 'survived']).size().unstack()\n",
    "survived = counts[1]\n",
    "deceased = counts[0]\n",
    "bar_width = 0.35\n",
    "x = np.arange(len(counts.index))\n",
    "\n",
    "axes[0, 0].bar(x - bar_width/2, survived, bar_width, label='1', color='lightgreen')\n",
    "axes[0, 0].bar(x + bar_width/2, deceased, bar_width, label='0', color='skyblue')\n",
    "axes[0, 0].set_xlabel('Sex')\n",
    "axes[0, 0].set_ylabel('Quantity')\n",
    "axes[0, 0].set_title('Survival by Sex')\n",
    "axes[0, 0].set_xticks(x)\n",
    "axes[0, 0].set_xticklabels(counts.index)\n",
    "axes[0, 0].legend(title='Survival')\n",
    "\n",
    "# Plot 2: Survival by Pclass (Count plot)\n",
    "sns.countplot(x='pclass', hue='survived', data=df, palette=['skyblue', 'lightgreen'], ax=axes[0, 1])\n",
    "axes[0, 1].set_title('Survival by Pclass')\n",
    "\n",
    "# Plot 3: Survival by Embarked (Count plot)\n",
    "sns.countplot(x='embarked', hue='survived', data=df, palette=['skyblue', 'lightgreen'], ax=axes[1, 0])\n",
    "axes[1, 0].set_title('Survival by Embarked')\n",
    "\n",
    "# Plot 4: Survival by Family Size (Count plot)\n",
    "#sns.countplot(x='familysize', hue='survived', data=df, palette=['skyblue', 'lightgreen'], ax=axes[1, 1])\n",
    "#axes[1, 1].set_title('Survival by Family Size')\n",
    "\n",
    "# Adjust layout to prevent overlap\n",
    "plt.tight_layout()\n",
    "\n",
    "# Show the plot\n",
    "plt.show()\n"
   ]
  },
  {
   "cell_type": "markdown",
   "metadata": {},
   "source": [
    "## 2. Missing Values - Deletion"
   ]
  },
  {
   "cell_type": "code",
   "execution_count": 4407,
   "metadata": {},
   "outputs": [
    {
     "data": {
      "text/plain": [
       "pclass       1309\n",
       "survived     1309\n",
       "name         1309\n",
       "sex          1309\n",
       "age          1046\n",
       "sibsp        1309\n",
       "parch        1309\n",
       "ticket       1309\n",
       "fare         1308\n",
       "cabin         295\n",
       "embarked     1307\n",
       "boat          486\n",
       "body          121\n",
       "home.dest     745\n",
       "dtype: int64"
      ]
     },
     "execution_count": 4407,
     "metadata": {},
     "output_type": "execute_result"
    }
   ],
   "source": [
    "df.count() #check columns with missing values"
   ]
  },
  {
   "cell_type": "markdown",
   "metadata": {},
   "source": [
    "#### Data Leakage"
   ]
  },
  {
   "cell_type": "markdown",
   "metadata": {},
   "source": [
    "\"Boat\" and \"Body\" features are direct indicators of survival or not, which are inherently tied to the prediction target. \n",
    "\n",
    "The \"Boat\" feature indicates whether a passenger was placed on a lifeboat, which is only relevant for survivors. Including this feature would give the model access to the outcome (survival) during training, causing data leakage.\n",
    "\n",
    "The \"Body\" feature refers to the body number, which is assigned to passengers who did not survive, revealing the passenger has passed away. Including this feature would directly reveal the outcome (not surviving), again leading to data leakage. \n",
    "\n",
    "By eliminating these features directly from the dataset we prevent data leakage, which occurs when the prediction target is implicitly contained in the training dataset. This would lead to an overly optimistic performance and a model that would not be capable of generalizing to unseen data."
   ]
  },
  {
   "cell_type": "code",
   "execution_count": 4408,
   "metadata": {},
   "outputs": [
    {
     "data": {
      "text/html": [
       "<div>\n",
       "<style scoped>\n",
       "    .dataframe tbody tr th:only-of-type {\n",
       "        vertical-align: middle;\n",
       "    }\n",
       "\n",
       "    .dataframe tbody tr th {\n",
       "        vertical-align: top;\n",
       "    }\n",
       "\n",
       "    .dataframe thead th {\n",
       "        text-align: right;\n",
       "    }\n",
       "</style>\n",
       "<table border=\"1\" class=\"dataframe\">\n",
       "  <thead>\n",
       "    <tr style=\"text-align: right;\">\n",
       "      <th></th>\n",
       "      <th>pclass</th>\n",
       "      <th>survived</th>\n",
       "      <th>name</th>\n",
       "      <th>sex</th>\n",
       "      <th>age</th>\n",
       "      <th>sibsp</th>\n",
       "      <th>parch</th>\n",
       "      <th>ticket</th>\n",
       "      <th>fare</th>\n",
       "      <th>cabin</th>\n",
       "      <th>embarked</th>\n",
       "      <th>home.dest</th>\n",
       "    </tr>\n",
       "  </thead>\n",
       "  <tbody>\n",
       "    <tr>\n",
       "      <th>0</th>\n",
       "      <td>1</td>\n",
       "      <td>1</td>\n",
       "      <td>Allen, Miss. Elisabeth Walton</td>\n",
       "      <td>female</td>\n",
       "      <td>29.0000</td>\n",
       "      <td>0</td>\n",
       "      <td>0</td>\n",
       "      <td>24160</td>\n",
       "      <td>211.3375</td>\n",
       "      <td>B5</td>\n",
       "      <td>S</td>\n",
       "      <td>St Louis, MO</td>\n",
       "    </tr>\n",
       "    <tr>\n",
       "      <th>1</th>\n",
       "      <td>1</td>\n",
       "      <td>1</td>\n",
       "      <td>Allison, Master. Hudson Trevor</td>\n",
       "      <td>male</td>\n",
       "      <td>0.9167</td>\n",
       "      <td>1</td>\n",
       "      <td>2</td>\n",
       "      <td>113781</td>\n",
       "      <td>151.5500</td>\n",
       "      <td>C22 C26</td>\n",
       "      <td>S</td>\n",
       "      <td>Montreal, PQ / Chesterville, ON</td>\n",
       "    </tr>\n",
       "    <tr>\n",
       "      <th>2</th>\n",
       "      <td>1</td>\n",
       "      <td>0</td>\n",
       "      <td>Allison, Miss. Helen Loraine</td>\n",
       "      <td>female</td>\n",
       "      <td>2.0000</td>\n",
       "      <td>1</td>\n",
       "      <td>2</td>\n",
       "      <td>113781</td>\n",
       "      <td>151.5500</td>\n",
       "      <td>C22 C26</td>\n",
       "      <td>S</td>\n",
       "      <td>Montreal, PQ / Chesterville, ON</td>\n",
       "    </tr>\n",
       "    <tr>\n",
       "      <th>3</th>\n",
       "      <td>1</td>\n",
       "      <td>0</td>\n",
       "      <td>Allison, Mr. Hudson Joshua Creighton</td>\n",
       "      <td>male</td>\n",
       "      <td>30.0000</td>\n",
       "      <td>1</td>\n",
       "      <td>2</td>\n",
       "      <td>113781</td>\n",
       "      <td>151.5500</td>\n",
       "      <td>C22 C26</td>\n",
       "      <td>S</td>\n",
       "      <td>Montreal, PQ / Chesterville, ON</td>\n",
       "    </tr>\n",
       "    <tr>\n",
       "      <th>4</th>\n",
       "      <td>1</td>\n",
       "      <td>0</td>\n",
       "      <td>Allison, Mrs. Hudson J C (Bessie Waldo Daniels)</td>\n",
       "      <td>female</td>\n",
       "      <td>25.0000</td>\n",
       "      <td>1</td>\n",
       "      <td>2</td>\n",
       "      <td>113781</td>\n",
       "      <td>151.5500</td>\n",
       "      <td>C22 C26</td>\n",
       "      <td>S</td>\n",
       "      <td>Montreal, PQ / Chesterville, ON</td>\n",
       "    </tr>\n",
       "  </tbody>\n",
       "</table>\n",
       "</div>"
      ],
      "text/plain": [
       "   pclass  survived                                             name     sex  \\\n",
       "0       1         1                    Allen, Miss. Elisabeth Walton  female   \n",
       "1       1         1                   Allison, Master. Hudson Trevor    male   \n",
       "2       1         0                     Allison, Miss. Helen Loraine  female   \n",
       "3       1         0             Allison, Mr. Hudson Joshua Creighton    male   \n",
       "4       1         0  Allison, Mrs. Hudson J C (Bessie Waldo Daniels)  female   \n",
       "\n",
       "       age  sibsp  parch  ticket      fare    cabin embarked  \\\n",
       "0  29.0000      0      0   24160  211.3375       B5        S   \n",
       "1   0.9167      1      2  113781  151.5500  C22 C26        S   \n",
       "2   2.0000      1      2  113781  151.5500  C22 C26        S   \n",
       "3  30.0000      1      2  113781  151.5500  C22 C26        S   \n",
       "4  25.0000      1      2  113781  151.5500  C22 C26        S   \n",
       "\n",
       "                         home.dest  \n",
       "0                     St Louis, MO  \n",
       "1  Montreal, PQ / Chesterville, ON  \n",
       "2  Montreal, PQ / Chesterville, ON  \n",
       "3  Montreal, PQ / Chesterville, ON  \n",
       "4  Montreal, PQ / Chesterville, ON  "
      ]
     },
     "execution_count": 4408,
     "metadata": {},
     "output_type": "execute_result"
    }
   ],
   "source": [
    "df = df.drop(['body', 'boat'], axis=1)\n",
    "df.head(5)"
   ]
  },
  {
   "cell_type": "code",
   "execution_count": 4409,
   "metadata": {},
   "outputs": [
    {
     "data": {
      "text/html": [
       "<div>\n",
       "<style scoped>\n",
       "    .dataframe tbody tr th:only-of-type {\n",
       "        vertical-align: middle;\n",
       "    }\n",
       "\n",
       "    .dataframe tbody tr th {\n",
       "        vertical-align: top;\n",
       "    }\n",
       "\n",
       "    .dataframe thead th {\n",
       "        text-align: right;\n",
       "    }\n",
       "</style>\n",
       "<table border=\"1\" class=\"dataframe\">\n",
       "  <thead>\n",
       "    <tr style=\"text-align: right;\">\n",
       "      <th></th>\n",
       "      <th>pclass</th>\n",
       "      <th>survived</th>\n",
       "      <th>age</th>\n",
       "      <th>sibsp</th>\n",
       "      <th>parch</th>\n",
       "      <th>fare</th>\n",
       "    </tr>\n",
       "  </thead>\n",
       "  <tbody>\n",
       "    <tr>\n",
       "      <th>count</th>\n",
       "      <td>1309.000000</td>\n",
       "      <td>1309.000000</td>\n",
       "      <td>1046.000000</td>\n",
       "      <td>1309.000000</td>\n",
       "      <td>1309.000000</td>\n",
       "      <td>1308.000000</td>\n",
       "    </tr>\n",
       "    <tr>\n",
       "      <th>mean</th>\n",
       "      <td>2.294882</td>\n",
       "      <td>0.381971</td>\n",
       "      <td>29.881135</td>\n",
       "      <td>0.498854</td>\n",
       "      <td>0.385027</td>\n",
       "      <td>33.295479</td>\n",
       "    </tr>\n",
       "    <tr>\n",
       "      <th>std</th>\n",
       "      <td>0.837836</td>\n",
       "      <td>0.486055</td>\n",
       "      <td>14.413500</td>\n",
       "      <td>1.041658</td>\n",
       "      <td>0.865560</td>\n",
       "      <td>51.758668</td>\n",
       "    </tr>\n",
       "    <tr>\n",
       "      <th>min</th>\n",
       "      <td>1.000000</td>\n",
       "      <td>0.000000</td>\n",
       "      <td>0.166700</td>\n",
       "      <td>0.000000</td>\n",
       "      <td>0.000000</td>\n",
       "      <td>0.000000</td>\n",
       "    </tr>\n",
       "    <tr>\n",
       "      <th>25%</th>\n",
       "      <td>2.000000</td>\n",
       "      <td>0.000000</td>\n",
       "      <td>21.000000</td>\n",
       "      <td>0.000000</td>\n",
       "      <td>0.000000</td>\n",
       "      <td>7.895800</td>\n",
       "    </tr>\n",
       "    <tr>\n",
       "      <th>50%</th>\n",
       "      <td>3.000000</td>\n",
       "      <td>0.000000</td>\n",
       "      <td>28.000000</td>\n",
       "      <td>0.000000</td>\n",
       "      <td>0.000000</td>\n",
       "      <td>14.454200</td>\n",
       "    </tr>\n",
       "    <tr>\n",
       "      <th>75%</th>\n",
       "      <td>3.000000</td>\n",
       "      <td>1.000000</td>\n",
       "      <td>39.000000</td>\n",
       "      <td>1.000000</td>\n",
       "      <td>0.000000</td>\n",
       "      <td>31.275000</td>\n",
       "    </tr>\n",
       "    <tr>\n",
       "      <th>max</th>\n",
       "      <td>3.000000</td>\n",
       "      <td>1.000000</td>\n",
       "      <td>80.000000</td>\n",
       "      <td>8.000000</td>\n",
       "      <td>9.000000</td>\n",
       "      <td>512.329200</td>\n",
       "    </tr>\n",
       "  </tbody>\n",
       "</table>\n",
       "</div>"
      ],
      "text/plain": [
       "            pclass     survived          age        sibsp        parch  \\\n",
       "count  1309.000000  1309.000000  1046.000000  1309.000000  1309.000000   \n",
       "mean      2.294882     0.381971    29.881135     0.498854     0.385027   \n",
       "std       0.837836     0.486055    14.413500     1.041658     0.865560   \n",
       "min       1.000000     0.000000     0.166700     0.000000     0.000000   \n",
       "25%       2.000000     0.000000    21.000000     0.000000     0.000000   \n",
       "50%       3.000000     0.000000    28.000000     0.000000     0.000000   \n",
       "75%       3.000000     1.000000    39.000000     1.000000     0.000000   \n",
       "max       3.000000     1.000000    80.000000     8.000000     9.000000   \n",
       "\n",
       "              fare  \n",
       "count  1308.000000  \n",
       "mean     33.295479  \n",
       "std      51.758668  \n",
       "min       0.000000  \n",
       "25%       7.895800  \n",
       "50%      14.454200  \n",
       "75%      31.275000  \n",
       "max     512.329200  "
      ]
     },
     "execution_count": 4409,
     "metadata": {},
     "output_type": "execute_result"
    }
   ],
   "source": [
    "df.describe()"
   ]
  },
  {
   "cell_type": "markdown",
   "metadata": {},
   "source": [
    "#### a. Home.dest"
   ]
  },
  {
   "cell_type": "markdown",
   "metadata": {},
   "source": [
    "Strategy chosen: Deletion"
   ]
  },
  {
   "cell_type": "markdown",
   "metadata": {},
   "source": [
    "The feature home.dest includes a total of 564 missing values. Out of the 745 values present in the dataset 369 of them are unique.\n",
    "Around 43% of values are missing, and out of those present, almost 50% are unique.\n",
    "\n",
    "A large proportion of missing values can potentially lead to bias  or noise if filled with the mean or median. Probably affecting the overall model performance.\n",
    "The fact that almost 50% are unique means that values are quite specific, increasing sparsity of data. This will probably make the model struggle to capture any meaningful pattern.\n",
    "\n",
    "Moreover, with so many unique categories, encoding them would lead to a very high dimensional dataset that may lead to overfitting because the model would be learning very specific details that do not generalize well to unseen data.\n",
    "\n",
    "There is also no clear logical reason for why a passenger's home destination  would directly influence their survival. Other variables like gender or age make more sense to include in the model"
   ]
  },
  {
   "cell_type": "code",
   "execution_count": 4410,
   "metadata": {},
   "outputs": [
    {
     "data": {
      "text/plain": [
       "pclass          3\n",
       "survived        2\n",
       "name         1307\n",
       "sex             2\n",
       "age            98\n",
       "sibsp           7\n",
       "parch           8\n",
       "ticket        939\n",
       "fare          281\n",
       "cabin         186\n",
       "embarked        3\n",
       "home.dest     369\n",
       "dtype: int64"
      ]
     },
     "execution_count": 4410,
     "metadata": {},
     "output_type": "execute_result"
    }
   ],
   "source": [
    "df.nunique()"
   ]
  },
  {
   "cell_type": "code",
   "execution_count": 4411,
   "metadata": {},
   "outputs": [],
   "source": [
    "df = df.drop(columns=['home.dest'])"
   ]
  },
  {
   "cell_type": "code",
   "execution_count": 4412,
   "metadata": {},
   "outputs": [
    {
     "data": {
      "text/plain": [
       "pclass         0\n",
       "survived       0\n",
       "name           0\n",
       "sex            0\n",
       "age          263\n",
       "sibsp          0\n",
       "parch          0\n",
       "ticket         0\n",
       "fare           1\n",
       "cabin       1014\n",
       "embarked       2\n",
       "dtype: int64"
      ]
     },
     "execution_count": 4412,
     "metadata": {},
     "output_type": "execute_result"
    }
   ],
   "source": [
    "df.isnull().sum()"
   ]
  },
  {
   "cell_type": "code",
   "execution_count": 4413,
   "metadata": {},
   "outputs": [
    {
     "name": "stdout",
     "output_type": "stream",
     "text": [
      "          Missing Values  Missing Percentage\n",
      "pclass                 0                0.00\n",
      "survived               0                0.00\n",
      "name                   0                0.00\n",
      "sex                    0                0.00\n",
      "age                  263               20.09\n",
      "sibsp                  0                0.00\n",
      "parch                  0                0.00\n",
      "ticket                 0                0.00\n",
      "fare                   1                0.08\n",
      "cabin               1014               77.46\n",
      "embarked               2                0.15\n"
     ]
    }
   ],
   "source": [
    "missing_val = df.isnull().sum()\n",
    "missing_percentage = round((missing_val/len(df)) * 100, 2)\n",
    "table = pd.DataFrame({'Missing Values': missing_val, 'Missing Percentage': missing_percentage})\n",
    "\n",
    "print(table)"
   ]
  },
  {
   "cell_type": "markdown",
   "metadata": {},
   "source": [
    "#### a. Cabin"
   ]
  },
  {
   "cell_type": "markdown",
   "metadata": {},
   "source": [
    "Strategy chosen: Imputation"
   ]
  },
  {
   "cell_type": "markdown",
   "metadata": {},
   "source": [
    "In data exploration, I noticed that tickets are not unique and that, in fact, they might be related to cabins. It seems that perhaphs each cabin corresponded to a unique ticket number or that families traveling together could be assigned the same cabin.\n",
    "\n",
    "So, the first step I'm taking is to check whether either of these patterns holds true for every record in the dataset or if there are inconcistencies that need to be addressed.\n",
    "\n",
    "If the pattern holds, I could use the ticket / family information to impute the missing cabin values. Since some tickets / families have an associated cabin, while others don't i could identify the records with complete cabin data and then fill in the missing cabin for records sharing the same ticket number / family name. "
   ]
  },
  {
   "cell_type": "code",
   "execution_count": 4414,
   "metadata": {},
   "outputs": [
    {
     "name": "stdout",
     "output_type": "stream",
     "text": [
      "Number of inconsistencies:\n",
      "25\n"
     ]
    }
   ],
   "source": [
    "#RELATIONSHIP TICKET-CABIN\n",
    "\n",
    "# Filter missing values for cabin\n",
    "df_filtered = df[df['cabin'].notna()]\n",
    "\n",
    "# Group by 'ticket' and check if all cabin values in each group are the same\n",
    "ticket_cabin_check = df_filtered.groupby('ticket')['cabin'].nunique()\n",
    "\n",
    "# Tickets where there is more than one unique cabin: \n",
    "inconsistent_tickets = ticket_cabin_check[ticket_cabin_check > 1]\n",
    "\n",
    "#print(\"Inconsistent tickets:\")\n",
    "#print(inconsistent_tickets)\n",
    "\n",
    "print(\"Number of inconsistencies:\")\n",
    "print(inconsistent_tickets.count())\n"
   ]
  },
  {
   "cell_type": "code",
   "execution_count": 4415,
   "metadata": {},
   "outputs": [
    {
     "name": "stdout",
     "output_type": "stream",
     "text": [
      "Number of inconsistencies:\n",
      "16\n"
     ]
    }
   ],
   "source": [
    "#RELATIONSHIP FAMILY-CABIN\n",
    "\n",
    "#isnce the last name is the first word in the name we will extract it and use it for comparison  -> cannot do this! De La Cruz for example\n",
    "#take the whole thing until the ,\n",
    "\n",
    "def extract_last_name(name):\n",
    "    name_parts = name.split(',')\n",
    "    last_name = name_parts[0].strip()\n",
    "    return last_name\n",
    "\n",
    "last_name_filtered = df['name'].apply(extract_last_name)\n",
    "\n",
    "last_name_df = df.copy()\n",
    "last_name_df['last_name'] = last_name_filtered\n",
    "\n",
    "family_cabin_check = last_name_df.groupby('last_name')['cabin'].nunique()\n",
    "\n",
    "inconsistent_last_names = family_cabin_check[family_cabin_check > 1]\n",
    "\n",
    "print(\"Number of inconsistencies:\")\n",
    "print(inconsistent_last_names.count())"
   ]
  },
  {
   "cell_type": "markdown",
   "metadata": {},
   "source": [
    "In my analysis, I initially assumed that the ticket-cabin relationship could be used to fill in the missing cabin values. However, I discovered that there are several inconsistencies that prevent this approach from working reliably. \n",
    "\n",
    "\n",
    "Using imputation methods like the mode, median, or mean isn't appropriate here. For instance, if I were to use the mode, it would suggest that a large number of passengers share the same cabin, which is unrealistic. Given the high number of missing values, it wouldn't make sense for a substantial portion of the passengers to end up with the same cabin.\n",
    "\n",
    "The median and mean also fall short because the cabin values include letters. \n",
    "\n",
    "Therefore, I've decided to fill in the missing cabin entries with \"unknown.\" This is since the first letter of the cabin represents the deck, and that detail could influence survival outcomes, perhaps due to differences in proximity to the lifeboats."
   ]
  },
  {
   "cell_type": "code",
   "execution_count": 4416,
   "metadata": {},
   "outputs": [
    {
     "data": {
      "text/plain": [
       "np.int64(0)"
      ]
     },
     "execution_count": 4416,
     "metadata": {},
     "output_type": "execute_result"
    }
   ],
   "source": [
    "df['cabin'] = df['cabin'].fillna('Unknown')\n",
    "df['cabin'].isnull().sum()"
   ]
  },
  {
   "cell_type": "code",
   "execution_count": 4417,
   "metadata": {},
   "outputs": [
    {
     "data": {
      "text/html": [
       "<div>\n",
       "<style scoped>\n",
       "    .dataframe tbody tr th:only-of-type {\n",
       "        vertical-align: middle;\n",
       "    }\n",
       "\n",
       "    .dataframe tbody tr th {\n",
       "        vertical-align: top;\n",
       "    }\n",
       "\n",
       "    .dataframe thead th {\n",
       "        text-align: right;\n",
       "    }\n",
       "</style>\n",
       "<table border=\"1\" class=\"dataframe\">\n",
       "  <thead>\n",
       "    <tr style=\"text-align: right;\">\n",
       "      <th></th>\n",
       "      <th>pclass</th>\n",
       "      <th>survived</th>\n",
       "      <th>name</th>\n",
       "      <th>sex</th>\n",
       "      <th>age</th>\n",
       "      <th>sibsp</th>\n",
       "      <th>parch</th>\n",
       "      <th>ticket</th>\n",
       "      <th>fare</th>\n",
       "      <th>cabin</th>\n",
       "      <th>embarked</th>\n",
       "    </tr>\n",
       "  </thead>\n",
       "  <tbody>\n",
       "    <tr>\n",
       "      <th>0</th>\n",
       "      <td>1</td>\n",
       "      <td>1</td>\n",
       "      <td>Allen, Miss. Elisabeth Walton</td>\n",
       "      <td>female</td>\n",
       "      <td>29.0000</td>\n",
       "      <td>0</td>\n",
       "      <td>0</td>\n",
       "      <td>24160</td>\n",
       "      <td>211.3375</td>\n",
       "      <td>B5</td>\n",
       "      <td>S</td>\n",
       "    </tr>\n",
       "    <tr>\n",
       "      <th>1</th>\n",
       "      <td>1</td>\n",
       "      <td>1</td>\n",
       "      <td>Allison, Master. Hudson Trevor</td>\n",
       "      <td>male</td>\n",
       "      <td>0.9167</td>\n",
       "      <td>1</td>\n",
       "      <td>2</td>\n",
       "      <td>113781</td>\n",
       "      <td>151.5500</td>\n",
       "      <td>C22 C26</td>\n",
       "      <td>S</td>\n",
       "    </tr>\n",
       "    <tr>\n",
       "      <th>2</th>\n",
       "      <td>1</td>\n",
       "      <td>0</td>\n",
       "      <td>Allison, Miss. Helen Loraine</td>\n",
       "      <td>female</td>\n",
       "      <td>2.0000</td>\n",
       "      <td>1</td>\n",
       "      <td>2</td>\n",
       "      <td>113781</td>\n",
       "      <td>151.5500</td>\n",
       "      <td>C22 C26</td>\n",
       "      <td>S</td>\n",
       "    </tr>\n",
       "    <tr>\n",
       "      <th>3</th>\n",
       "      <td>1</td>\n",
       "      <td>0</td>\n",
       "      <td>Allison, Mr. Hudson Joshua Creighton</td>\n",
       "      <td>male</td>\n",
       "      <td>30.0000</td>\n",
       "      <td>1</td>\n",
       "      <td>2</td>\n",
       "      <td>113781</td>\n",
       "      <td>151.5500</td>\n",
       "      <td>C22 C26</td>\n",
       "      <td>S</td>\n",
       "    </tr>\n",
       "    <tr>\n",
       "      <th>4</th>\n",
       "      <td>1</td>\n",
       "      <td>0</td>\n",
       "      <td>Allison, Mrs. Hudson J C (Bessie Waldo Daniels)</td>\n",
       "      <td>female</td>\n",
       "      <td>25.0000</td>\n",
       "      <td>1</td>\n",
       "      <td>2</td>\n",
       "      <td>113781</td>\n",
       "      <td>151.5500</td>\n",
       "      <td>C22 C26</td>\n",
       "      <td>S</td>\n",
       "    </tr>\n",
       "    <tr>\n",
       "      <th>5</th>\n",
       "      <td>1</td>\n",
       "      <td>1</td>\n",
       "      <td>Anderson, Mr. Harry</td>\n",
       "      <td>male</td>\n",
       "      <td>48.0000</td>\n",
       "      <td>0</td>\n",
       "      <td>0</td>\n",
       "      <td>19952</td>\n",
       "      <td>26.5500</td>\n",
       "      <td>E12</td>\n",
       "      <td>S</td>\n",
       "    </tr>\n",
       "    <tr>\n",
       "      <th>6</th>\n",
       "      <td>1</td>\n",
       "      <td>1</td>\n",
       "      <td>Andrews, Miss. Kornelia Theodosia</td>\n",
       "      <td>female</td>\n",
       "      <td>63.0000</td>\n",
       "      <td>1</td>\n",
       "      <td>0</td>\n",
       "      <td>13502</td>\n",
       "      <td>77.9583</td>\n",
       "      <td>D7</td>\n",
       "      <td>S</td>\n",
       "    </tr>\n",
       "    <tr>\n",
       "      <th>7</th>\n",
       "      <td>1</td>\n",
       "      <td>0</td>\n",
       "      <td>Andrews, Mr. Thomas Jr</td>\n",
       "      <td>male</td>\n",
       "      <td>39.0000</td>\n",
       "      <td>0</td>\n",
       "      <td>0</td>\n",
       "      <td>112050</td>\n",
       "      <td>0.0000</td>\n",
       "      <td>A36</td>\n",
       "      <td>S</td>\n",
       "    </tr>\n",
       "    <tr>\n",
       "      <th>8</th>\n",
       "      <td>1</td>\n",
       "      <td>1</td>\n",
       "      <td>Appleton, Mrs. Edward Dale (Charlotte Lamson)</td>\n",
       "      <td>female</td>\n",
       "      <td>53.0000</td>\n",
       "      <td>2</td>\n",
       "      <td>0</td>\n",
       "      <td>11769</td>\n",
       "      <td>51.4792</td>\n",
       "      <td>C101</td>\n",
       "      <td>S</td>\n",
       "    </tr>\n",
       "    <tr>\n",
       "      <th>9</th>\n",
       "      <td>1</td>\n",
       "      <td>0</td>\n",
       "      <td>Artagaveytia, Mr. Ramon</td>\n",
       "      <td>male</td>\n",
       "      <td>71.0000</td>\n",
       "      <td>0</td>\n",
       "      <td>0</td>\n",
       "      <td>PC 17609</td>\n",
       "      <td>49.5042</td>\n",
       "      <td>Unknown</td>\n",
       "      <td>C</td>\n",
       "    </tr>\n",
       "    <tr>\n",
       "      <th>10</th>\n",
       "      <td>1</td>\n",
       "      <td>0</td>\n",
       "      <td>Astor, Col. John Jacob</td>\n",
       "      <td>male</td>\n",
       "      <td>47.0000</td>\n",
       "      <td>1</td>\n",
       "      <td>0</td>\n",
       "      <td>PC 17757</td>\n",
       "      <td>227.5250</td>\n",
       "      <td>C62 C64</td>\n",
       "      <td>C</td>\n",
       "    </tr>\n",
       "    <tr>\n",
       "      <th>11</th>\n",
       "      <td>1</td>\n",
       "      <td>1</td>\n",
       "      <td>Astor, Mrs. John Jacob (Madeleine Talmadge Force)</td>\n",
       "      <td>female</td>\n",
       "      <td>18.0000</td>\n",
       "      <td>1</td>\n",
       "      <td>0</td>\n",
       "      <td>PC 17757</td>\n",
       "      <td>227.5250</td>\n",
       "      <td>C62 C64</td>\n",
       "      <td>C</td>\n",
       "    </tr>\n",
       "  </tbody>\n",
       "</table>\n",
       "</div>"
      ],
      "text/plain": [
       "    pclass  survived                                               name  \\\n",
       "0        1         1                      Allen, Miss. Elisabeth Walton   \n",
       "1        1         1                     Allison, Master. Hudson Trevor   \n",
       "2        1         0                       Allison, Miss. Helen Loraine   \n",
       "3        1         0               Allison, Mr. Hudson Joshua Creighton   \n",
       "4        1         0    Allison, Mrs. Hudson J C (Bessie Waldo Daniels)   \n",
       "5        1         1                                Anderson, Mr. Harry   \n",
       "6        1         1                  Andrews, Miss. Kornelia Theodosia   \n",
       "7        1         0                             Andrews, Mr. Thomas Jr   \n",
       "8        1         1      Appleton, Mrs. Edward Dale (Charlotte Lamson)   \n",
       "9        1         0                            Artagaveytia, Mr. Ramon   \n",
       "10       1         0                             Astor, Col. John Jacob   \n",
       "11       1         1  Astor, Mrs. John Jacob (Madeleine Talmadge Force)   \n",
       "\n",
       "       sex      age  sibsp  parch    ticket      fare    cabin embarked  \n",
       "0   female  29.0000      0      0     24160  211.3375       B5        S  \n",
       "1     male   0.9167      1      2    113781  151.5500  C22 C26        S  \n",
       "2   female   2.0000      1      2    113781  151.5500  C22 C26        S  \n",
       "3     male  30.0000      1      2    113781  151.5500  C22 C26        S  \n",
       "4   female  25.0000      1      2    113781  151.5500  C22 C26        S  \n",
       "5     male  48.0000      0      0     19952   26.5500      E12        S  \n",
       "6   female  63.0000      1      0     13502   77.9583       D7        S  \n",
       "7     male  39.0000      0      0    112050    0.0000      A36        S  \n",
       "8   female  53.0000      2      0     11769   51.4792     C101        S  \n",
       "9     male  71.0000      0      0  PC 17609   49.5042  Unknown        C  \n",
       "10    male  47.0000      1      0  PC 17757  227.5250  C62 C64        C  \n",
       "11  female  18.0000      1      0  PC 17757  227.5250  C62 C64        C  "
      ]
     },
     "execution_count": 4417,
     "metadata": {},
     "output_type": "execute_result"
    }
   ],
   "source": [
    "df.head(12)"
   ]
  },
  {
   "cell_type": "markdown",
   "metadata": {},
   "source": [
    "#### Ticket"
   ]
  },
  {
   "cell_type": "code",
   "execution_count": 4418,
   "metadata": {},
   "outputs": [],
   "source": [
    "df = df.drop(columns=['ticket'])"
   ]
  },
  {
   "cell_type": "markdown",
   "metadata": {},
   "source": [
    "## Data Splitting"
   ]
  },
  {
   "cell_type": "code",
   "execution_count": 4419,
   "metadata": {},
   "outputs": [
    {
     "name": "stdout",
     "output_type": "stream",
     "text": [
      "Training set distribution:\n",
      "survived\n",
      "0    0.617956\n",
      "1    0.382044\n",
      "Name: count, dtype: float64\n",
      "\n",
      "Validation set distribution:\n",
      "survived\n",
      "0    0.618321\n",
      "1    0.381679\n",
      "Name: count, dtype: float64\n",
      "\n",
      "Test set distribution:\n",
      "survived\n",
      "0    0.618321\n",
      "1    0.381679\n",
      "Name: count, dtype: float64\n"
     ]
    }
   ],
   "source": [
    "#Splitting 80-10-10\n",
    "train_df, others_df = train_test_split(df, test_size=0.2, stratify=df['survived'], random_state=2025)\n",
    "#In machine learning, stratification is a technique used to ensure that the distribution of the target variable (or class labels) in the train, validation, and test sets is as similar as possible to the original dataset.\n",
    "\n",
    "validation_df, test_df = train_test_split(others_df, test_size=0.5, stratify=others_df['survived'], random_state=2025)\n",
    "\n",
    "# Distribution in each split -> same as whole dataset\n",
    "print(\"Training set distribution:\")\n",
    "print(train_df['survived'].value_counts() / len(train_df))\n",
    "\n",
    "print(\"\\nValidation set distribution:\")\n",
    "print(validation_df['survived'].value_counts() / len(validation_df))\n",
    "\n",
    "print(\"\\nTest set distribution:\")\n",
    "print(test_df['survived'].value_counts() / len(test_df))"
   ]
  },
  {
   "cell_type": "markdown",
   "metadata": {},
   "source": [
    "## Missing Values - Imputation"
   ]
  },
  {
   "cell_type": "markdown",
   "metadata": {},
   "source": [
    "#### b. Embarked"
   ]
  },
  {
   "cell_type": "markdown",
   "metadata": {},
   "source": [
    "Strategy chosen: Imputation"
   ]
  },
  {
   "cell_type": "code",
   "execution_count": 4420,
   "metadata": {},
   "outputs": [
    {
     "name": "stdout",
     "output_type": "stream",
     "text": [
      "     pclass  survived                                       name     sex  \\\n",
      "168       1         1                        Icard, Miss. Amelie  female   \n",
      "284       1         1  Stone, Mrs. George Nelson (Martha Evelyn)  female   \n",
      "\n",
      "      age  sibsp  parch  fare cabin embarked  \n",
      "168  38.0      0      0  80.0   B28      NaN  \n",
      "284  62.0      0      0  80.0   B28      NaN  \n"
     ]
    }
   ],
   "source": [
    "missing_embarked = df[df[\"embarked\"].isnull()]\n",
    "print(missing_embarked)"
   ]
  },
  {
   "cell_type": "markdown",
   "metadata": {},
   "source": [
    "Since there are only two missing values in the variable \"Embarked\", filling them with the most common port of embarkation ensures that the overall distribution remains nearly unchanged, minimizing the risk of introducing bias. \n",
    "\n",
    "Additionally, as \"Embarked\" is a categorical variable, using the mode, which represents the most frequent category, is a logical choice for imputation."
   ]
  },
  {
   "cell_type": "code",
   "execution_count": 4421,
   "metadata": {},
   "outputs": [
    {
     "name": "stdout",
     "output_type": "stream",
     "text": [
      "Missing values in x_train:\n",
      "pclass        0\n",
      "survived      0\n",
      "name          0\n",
      "sex           0\n",
      "age         203\n",
      "sibsp         0\n",
      "parch         0\n",
      "fare          1\n",
      "cabin         0\n",
      "embarked      2\n",
      "dtype: int64\n",
      "\n",
      "Missing values in x_val:\n",
      "pclass       0\n",
      "survived     0\n",
      "name         0\n",
      "sex          0\n",
      "age         29\n",
      "sibsp        0\n",
      "parch        0\n",
      "fare         0\n",
      "cabin        0\n",
      "embarked     0\n",
      "dtype: int64\n",
      "\n",
      "Missing values in x_test:\n",
      "pclass       0\n",
      "survived     0\n",
      "name         0\n",
      "sex          0\n",
      "age         31\n",
      "sibsp        0\n",
      "parch        0\n",
      "fare         0\n",
      "cabin        0\n",
      "embarked     0\n",
      "dtype: int64\n"
     ]
    }
   ],
   "source": [
    "print(\"Missing values in x_train:\")\n",
    "print(train_df.isnull().sum())\n",
    "\n",
    "print(\"\\nMissing values in x_val:\")\n",
    "print(validation_df.isnull().sum())\n",
    "\n",
    "print(\"\\nMissing values in x_test:\")\n",
    "print(test_df.isnull().sum())"
   ]
  },
  {
   "cell_type": "code",
   "execution_count": 4422,
   "metadata": {},
   "outputs": [],
   "source": [
    "mode_embarked = train_df['embarked'].mode()[0]\n",
    "\n",
    "train_df['embarked'] = train_df['embarked'].fillna(mode_embarked)\n",
    "validation_df['embarked'] = validation_df['embarked'].fillna(mode_embarked)\n",
    "test_df['embarked'] = test_df['embarked'].fillna(mode_embarked)"
   ]
  },
  {
   "cell_type": "markdown",
   "metadata": {},
   "source": [
    "The mode should be computed from the training set only because we assume the validation and test sets are unseen data. -> avoid data leackage"
   ]
  },
  {
   "cell_type": "markdown",
   "metadata": {},
   "source": [
    "#### c. Age"
   ]
  },
  {
   "cell_type": "markdown",
   "metadata": {},
   "source": [
    "Strategy chosen: Imputation"
   ]
  },
  {
   "cell_type": "code",
   "execution_count": 4423,
   "metadata": {},
   "outputs": [
    {
     "data": {
      "image/png": "[encoded data removed]",
      "text/plain": [
       "<Figure size 1000x600 with 1 Axes>"
      ]
     },
     "metadata": {},
     "output_type": "display_data"
    }
   ],
   "source": [
    "plt.figure(figsize=(10, 6))\n",
    "\n",
    "sns.histplot(df, x='age', hue='sex', multiple='stack', kde=True)\n",
    "\n",
    "plt.title(\"Age Distribution by Sex\")\n",
    "plt.xlabel(\"Age\")\n",
    "plt.ylabel(\"Count\")\n",
    "plt.show()\n"
   ]
  },
  {
   "cell_type": "code",
   "execution_count": 4424,
   "metadata": {},
   "outputs": [
    {
     "name": "stderr",
     "output_type": "stream",
     "text": [
      "/var/folders/_l/fwt_9dvs30g55rs94h95qn8w0000gn/T/ipykernel_64091/723558465.py:3: FutureWarning: \n",
      "\n",
      "Passing `palette` without assigning `hue` is deprecated and will be removed in v0.14.0. Assign the `x` variable to `hue` and set `legend=False` for the same effect.\n",
      "\n",
      "  sns.boxplot(x='pclass', y='age', data=df, palette='Set2')\n"
     ]
    },
    {
     "data": {
      "image/png": "[encoded data removed]",
      "text/plain": [
       "<Figure size 1000x600 with 1 Axes>"
      ]
     },
     "metadata": {},
     "output_type": "display_data"
    }
   ],
   "source": [
    "plt.figure(figsize=(10, 6))\n",
    "\n",
    "sns.boxplot(x='pclass', y='age', data=df, palette='Set2')\n",
    "\n",
    "plt.title(\"Age Distribution by Pclass\")\n",
    "plt.xlabel(\"Pclass\")\n",
    "plt.ylabel(\"Age\")\n",
    "plt.show()\n"
   ]
  },
  {
   "cell_type": "markdown",
   "metadata": {},
   "source": [
    "For Pclass 1 (1st class), the median age is around 40-45, for Pclass 2 (2nd class), it's closer to 30, and for Pclass 3 (3rd class), it's closer to 25.\n",
    "\n",
    "When looking at the heatmap we realize they have the highest correlation. \n"
   ]
  },
  {
   "cell_type": "markdown",
   "metadata": {},
   "source": [
    "Mean by sex?\n",
    "Median by sex?\n",
    "Median / mean\n",
    "Mean by pclass?\n",
    "\n"
   ]
  },
  {
   "cell_type": "code",
   "execution_count": 4425,
   "metadata": {},
   "outputs": [],
   "source": [
    "#MEAN BY SEX\n",
    "#mean_age_female = df[df['sex'] == 'female']['age'].mean()\n",
    "#mean_age_male = df[df['sex'] == 'male']['age'].mean()\n",
    "\n",
    "\n",
    "#df.loc[(df['sex'] == 'female') & (df['age'].isnull()), 'age'] = mean_age_female\n",
    "#df.loc[(df['sex'] == 'male') & (df['age'].isnull()), 'age'] = mean_age_male\n",
    "#df['age'].isnull().sum()"
   ]
  },
  {
   "cell_type": "code",
   "execution_count": 4426,
   "metadata": {},
   "outputs": [
    {
     "name": "stdout",
     "output_type": "stream",
     "text": [
      "Missing values:\n",
      "Train: 0\n",
      "Validation: 0\n",
      "Test: 0\n"
     ]
    }
   ],
   "source": [
    "#MEAN BY PCLASS\n",
    "\n",
    "mean_age_by_pclass = train_df.groupby('pclass')['age'].mean()\n",
    "\n",
    "for pclass in mean_age_by_pclass.index:  \n",
    "    train_df.loc[(train_df['pclass'] == pclass) & (train_df['age'].isnull()), 'age'] = mean_age_by_pclass[pclass]\n",
    "    validation_df.loc[(validation_df['pclass'] == pclass) & (validation_df['age'].isnull()), 'age'] = mean_age_by_pclass[pclass]\n",
    "    test_df.loc[(test_df['pclass'] == pclass) & (test_df['age'].isnull()), 'age'] = mean_age_by_pclass[pclass]\n",
    "\n",
    "print(\"Missing values:\")\n",
    "print(\"Train:\", train_df['age'].isnull().sum())  \n",
    "print(\"Validation:\", validation_df['age'].isnull().sum())  \n",
    "print(\"Test:\", test_df['age'].isnull().sum())  \n"
   ]
  },
  {
   "cell_type": "markdown",
   "metadata": {},
   "source": [
    "#### d. Fare"
   ]
  },
  {
   "cell_type": "markdown",
   "metadata": {},
   "source": [
    "Strategy chosen: Imputation"
   ]
  },
  {
   "cell_type": "markdown",
   "metadata": {},
   "source": [
    "Approach 1: \n",
    "For the Fare variable, which has only one missing value and a highly left-skewed distribution, I chose to impute the missing value using the median. \n",
    "\n",
    "In a left-skewed distribution, extreme low values can pull the mean downward, making it less representative of the central tendency of the data. \n",
    "\n",
    "The median, being more robust to outliers, provides a more typical value for the majority of observations, ensuring that the imputed value accurately reflects the common fare paid by passengers without being unduly influenced by the skewness of the distribution."
   ]
  },
  {
   "cell_type": "code",
   "execution_count": 4427,
   "metadata": {},
   "outputs": [],
   "source": [
    "median_fare = train_df['fare'].median()\n",
    "\n",
    "train_df['fare'] = train_df['fare'].fillna(median_fare)\n",
    "validation_df['fare'] = validation_df['fare'].fillna(median_fare)\n",
    "test_df['fare'] = test_df['fare'].fillna(median_fare)"
   ]
  },
  {
   "cell_type": "code",
   "execution_count": 4428,
   "metadata": {},
   "outputs": [
    {
     "data": {
      "image/png": "[encoded data removed]",
      "text/plain": [
       "<Figure size 800x600 with 1 Axes>"
      ]
     },
     "metadata": {},
     "output_type": "display_data"
    }
   ],
   "source": [
    "plt.figure(figsize=(8, 6))\n",
    "sns.boxplot(x='fare', data=df)\n",
    "plt.title('Fare Boxplot')\n",
    "plt.show()"
   ]
  },
  {
   "cell_type": "markdown",
   "metadata": {},
   "source": [
    "Approach 2: \n",
    "Fare has a correlation of 0.24 with the target variable, Survival, which indicates a weak relationship. While there is a positive correlation (people who paid higher fares tend to have a slightly higher probability of survival), this relationship is weak. \n",
    "\n",
    "At the same time fare has a very high variance due to its right skewed distribution. This might make the model focus too much on the outliers leading to overfitting, reducing its predictive power to new unseen data.\n",
    "\n"
   ]
  },
  {
   "cell_type": "code",
   "execution_count": 4429,
   "metadata": {},
   "outputs": [
    {
     "data": {
      "image/png": "[encoded data removed]",
      "text/plain": [
       "<Figure size 640x480 with 2 Axes>"
      ]
     },
     "metadata": {},
     "output_type": "display_data"
    }
   ],
   "source": [
    "sns.heatmap(df[['fare', 'survived', 'pclass']].corr(), annot=True, cmap=\"coolwarm\")\n",
    "plt.show()"
   ]
  },
  {
   "cell_type": "code",
   "execution_count": 4430,
   "metadata": {},
   "outputs": [],
   "source": [
    "#df = train_df.drop(columns=['fare'])\n",
    "#df = validation_df.drop(columns=['fare'])\n",
    "#df = test_df.drop(columns=['fare'])"
   ]
  },
  {
   "cell_type": "code",
   "execution_count": 4431,
   "metadata": {},
   "outputs": [],
   "source": [
    "#fare_bins = pd.qcut(df['fare'], q=4, labels=['Low', 'Medium', 'High', 'Very High'])\n",
    "#df['fare_bins'] = fare_bins"
   ]
  },
  {
   "cell_type": "markdown",
   "metadata": {},
   "source": [
    "Learning Curves\n",
    "\n",
    "● Practical way to determine whether we have enough training data.\n",
    "\n",
    "● Curves: training and validation scores (y) for a number of examples (x)\n",
    "\n",
    "● Diminishing return for the number of examples added (data cost!)\n",
    "\n",
    "● Typical sublinear improvement of ML training performance.\n",
    "\n",
    "● Reasons for the plateau:\n",
    "\n",
    "○ Not enough informative features\n",
    "\n",
    "○ Learning algorithm cannot train a complex enough model for the given data\n",
    "\n",
    "● How to break the plateau:\n",
    "\n",
    "○ Engineering additional features, e.g., combining existing features or adding indirect information\n",
    "\n",
    "○ More powerful learning algorithms, e.g., ensemble learning or deep neural networks"
   ]
  },
  {
   "cell_type": "markdown",
   "metadata": {},
   "source": [
    "## 3. Encoding Categorical Variables"
   ]
  },
  {
   "cell_type": "markdown",
   "metadata": {},
   "source": [
    "Categorial variables:\n",
    "pclass          0\n",
    "survived        0 -> no encoding needed, binary\n",
    "sex             0\n",
    "ticket          0\n",
    "cabin           0\n",
    "embarked        0\n",
    "\n",
    "home destination -> group by countries -> library?\n",
    "\n",
    "\n",
    "pclass → Ordinal categorical (Passenger class: 1st, 2nd, 3rd) \n",
    "\n",
    "name → Nominal categorical (Passenger names) \n",
    "\n",
    "sex → Nominal categorical (Male, Female)\n",
    "\n",
    "ticket → Nominal categorical (Ticket codes)\n",
    "\n",
    "cabin → Nominal categorical (Cabin numbers)\n",
    "\n",
    "embarked → Nominal categorical (Port of embarkation: C, Q, S)\n",
    "\n",
    "home.dest → Nominal categorical (Home destination)\n",
    "\n",
    "survived → Binary categorical (0 = No, 1 = Yes) \n",
    "\n",
    "methods\n",
    "1. One-Hot Encoding\n",
    "\n",
    "2. Dummy Encoding\n",
    "\n",
    "3.Ordinal Encoding\n",
    "\n",
    "4. Binary Encoding\n",
    "\n",
    "5. Count Encoding\n",
    "\n",
    "6. Target Encoding\n",
    "\n",
    "\n",
    "Why Dummy Encoding for Logistic Regression?\n",
    "Logistic regression assumes independent predictor variables.\n",
    "One-hot encoding creates redundancy (e.g., knowing two of three embarked columns lets you infer the third).\n",
    "Dummy encoding removes this redundancy, preventing multicollinearity."
   ]
  },
  {
   "cell_type": "code",
   "execution_count": 4432,
   "metadata": {},
   "outputs": [
    {
     "data": {
      "text/html": [
       "<div>\n",
       "<style scoped>\n",
       "    .dataframe tbody tr th:only-of-type {\n",
       "        vertical-align: middle;\n",
       "    }\n",
       "\n",
       "    .dataframe tbody tr th {\n",
       "        vertical-align: top;\n",
       "    }\n",
       "\n",
       "    .dataframe thead th {\n",
       "        text-align: right;\n",
       "    }\n",
       "</style>\n",
       "<table border=\"1\" class=\"dataframe\">\n",
       "  <thead>\n",
       "    <tr style=\"text-align: right;\">\n",
       "      <th></th>\n",
       "      <th>pclass</th>\n",
       "      <th>survived</th>\n",
       "      <th>name</th>\n",
       "      <th>sex</th>\n",
       "      <th>age</th>\n",
       "      <th>sibsp</th>\n",
       "      <th>parch</th>\n",
       "      <th>fare</th>\n",
       "      <th>cabin</th>\n",
       "      <th>embarked</th>\n",
       "    </tr>\n",
       "  </thead>\n",
       "  <tbody>\n",
       "    <tr>\n",
       "      <th>829</th>\n",
       "      <td>3</td>\n",
       "      <td>0</td>\n",
       "      <td>Goodwin, Miss. Lillian Amy</td>\n",
       "      <td>female</td>\n",
       "      <td>16.000000</td>\n",
       "      <td>5</td>\n",
       "      <td>2</td>\n",
       "      <td>46.900</td>\n",
       "      <td>Unknown</td>\n",
       "      <td>S</td>\n",
       "    </tr>\n",
       "    <tr>\n",
       "      <th>889</th>\n",
       "      <td>3</td>\n",
       "      <td>1</td>\n",
       "      <td>Johansson Palmquist, Mr. Oskar Leander</td>\n",
       "      <td>male</td>\n",
       "      <td>26.000000</td>\n",
       "      <td>0</td>\n",
       "      <td>0</td>\n",
       "      <td>7.775</td>\n",
       "      <td>Unknown</td>\n",
       "      <td>S</td>\n",
       "    </tr>\n",
       "    <tr>\n",
       "      <th>330</th>\n",
       "      <td>2</td>\n",
       "      <td>0</td>\n",
       "      <td>Ashby, Mr. John</td>\n",
       "      <td>male</td>\n",
       "      <td>57.000000</td>\n",
       "      <td>0</td>\n",
       "      <td>0</td>\n",
       "      <td>13.000</td>\n",
       "      <td>Unknown</td>\n",
       "      <td>S</td>\n",
       "    </tr>\n",
       "    <tr>\n",
       "      <th>91</th>\n",
       "      <td>1</td>\n",
       "      <td>1</td>\n",
       "      <td>Dick, Mr. Albert Adrian</td>\n",
       "      <td>male</td>\n",
       "      <td>31.000000</td>\n",
       "      <td>1</td>\n",
       "      <td>0</td>\n",
       "      <td>57.000</td>\n",
       "      <td>B20</td>\n",
       "      <td>S</td>\n",
       "    </tr>\n",
       "    <tr>\n",
       "      <th>808</th>\n",
       "      <td>3</td>\n",
       "      <td>0</td>\n",
       "      <td>Ford, Mr. Arthur</td>\n",
       "      <td>male</td>\n",
       "      <td>24.913917</td>\n",
       "      <td>0</td>\n",
       "      <td>0</td>\n",
       "      <td>8.050</td>\n",
       "      <td>Unknown</td>\n",
       "      <td>S</td>\n",
       "    </tr>\n",
       "  </tbody>\n",
       "</table>\n",
       "</div>"
      ],
      "text/plain": [
       "     pclass  survived                                    name     sex  \\\n",
       "829       3         0              Goodwin, Miss. Lillian Amy  female   \n",
       "889       3         1  Johansson Palmquist, Mr. Oskar Leander    male   \n",
       "330       2         0                         Ashby, Mr. John    male   \n",
       "91        1         1                 Dick, Mr. Albert Adrian    male   \n",
       "808       3         0                        Ford, Mr. Arthur    male   \n",
       "\n",
       "           age  sibsp  parch    fare    cabin embarked  \n",
       "829  16.000000      5      2  46.900  Unknown        S  \n",
       "889  26.000000      0      0   7.775  Unknown        S  \n",
       "330  57.000000      0      0  13.000  Unknown        S  \n",
       "91   31.000000      1      0  57.000      B20        S  \n",
       "808  24.913917      0      0   8.050  Unknown        S  "
      ]
     },
     "execution_count": 4432,
     "metadata": {},
     "output_type": "execute_result"
    }
   ],
   "source": [
    "train_df.head()"
   ]
  },
  {
   "cell_type": "code",
   "execution_count": 4433,
   "metadata": {},
   "outputs": [],
   "source": [
    "# Define categorical columns\n",
    "one_hot_cols = [\"sex\", \"embarked\"]  # Use One-Hot Encoding\n",
    "\n",
    "# Initialize OneHotEncoder with handle_unknown='ignore'\n",
    "ohe = OneHotEncoder(handle_unknown='ignore', drop='first', sparse_output=False)  # Drop first to prevent redundancy\n",
    "\n",
    "# Fit OHE on train_df and transform all datasets\n",
    "ohe.fit(train_df[one_hot_cols])\n",
    "\n",
    "# Convert categorical columns into One-Hot encoded arrays\n",
    "train_ohe = ohe.transform(train_df[one_hot_cols])\n",
    "validation_ohe = ohe.transform(validation_df[one_hot_cols])\n",
    "test_ohe = ohe.transform(test_df[one_hot_cols])\n",
    "\n",
    "# Convert arrays to DataFrames with proper column names\n",
    "ohe_cols = ohe.get_feature_names_out(one_hot_cols)\n",
    "train_ohe = pd.DataFrame(train_ohe, columns=ohe_cols, index=train_df.index)\n",
    "validation_ohe = pd.DataFrame(validation_ohe, columns=ohe_cols, index=validation_df.index)\n",
    "test_ohe = pd.DataFrame(test_ohe, columns=ohe_cols, index=test_df.index)\n",
    "\n",
    "# Drop original categorical columns and merge OHE DataFrames\n",
    "train_df = train_df.drop(columns=one_hot_cols).join(train_ohe)\n",
    "validation_df = validation_df.drop(columns=one_hot_cols).join(validation_ohe)\n",
    "test_df = test_df.drop(columns=one_hot_cols).join(test_ohe)"
   ]
  },
  {
   "cell_type": "code",
   "execution_count": 4434,
   "metadata": {},
   "outputs": [],
   "source": [
    "# Extract the first letter from 'cabin' before encoding\n",
    "train_df[\"cabin\"] = train_df[\"cabin\"].astype(str).str[0]\n",
    "validation_df[\"cabin\"] = validation_df[\"cabin\"].astype(str).str[0]\n",
    "test_df[\"cabin\"] = test_df[\"cabin\"].astype(str).str[0]\n",
    "\n",
    "# Initialize LabelEncoder\n",
    "encoder = LabelEncoder()\n",
    "\n",
    "# Fit LabelEncoder on train_df and transform it\n",
    "train_df[\"cabin\"] = encoder.fit_transform(train_df[\"cabin\"])\n",
    "\n",
    "# Get known categories from train set\n",
    "known_categories = set(encoder.classes_)\n",
    "\n",
    "# Replace unseen categories in validation & test with \"Unknown\"\n",
    "validation_df[\"cabin\"] = validation_df[\"cabin\"].apply(lambda x: x if x in known_categories else \"Unknown\")\n",
    "test_df[\"cabin\"] = test_df[\"cabin\"].apply(lambda x: x if x in known_categories else \"Unknown\")\n",
    "\n",
    "# Add 'Unknown' to encoder's classes_\n",
    "encoder.classes_ = np.append(encoder.classes_, \"Unknown\")\n",
    "\n",
    "# Transform validation & test sets\n",
    "validation_df[\"cabin\"] = encoder.transform(validation_df[\"cabin\"])\n",
    "test_df[\"cabin\"] = encoder.transform(test_df[\"cabin\"])\n",
    "\n"
   ]
  },
  {
   "cell_type": "markdown",
   "metadata": {},
   "source": [
    "If validation_df or test_df is missing some columns that train_df has, the model will expect features that are not present, leading to errors."
   ]
  },
  {
   "cell_type": "code",
   "execution_count": 4435,
   "metadata": {},
   "outputs": [],
   "source": [
    "train_df_copy = df #later used in heatmap"
   ]
  },
  {
   "cell_type": "code",
   "execution_count": 4436,
   "metadata": {},
   "outputs": [
    {
     "data": {
      "image/png": "[encoded data removed]",
      "text/plain": [
       "<Figure size 640x480 with 1 Axes>"
      ]
     },
     "metadata": {},
     "output_type": "display_data"
    }
   ],
   "source": [
    "sns.barplot(x='cabin', y='survived', data=train_df)\n",
    "plt.title('Survival Rate by Cabin')\n",
    "plt.xticks(rotation=45)\n",
    "plt.show()\n"
   ]
  },
  {
   "cell_type": "markdown",
   "metadata": {},
   "source": [
    "One-Hot Encoding en lugar de Ordinal porque:\n",
    "\n",
    "No hay una relación ordinal clara con la supervivencia:\n",
    "\n",
    "B, E y C tienen tasas similares (alrededor de 70%)\n",
    "Las tasas no siguen un patrón consistente de aumento o disminución\n",
    "Por ejemplo, la cabina A tiene una tasa menor (~50%) que B, C, D y E\n",
    "G tiene una tasa de supervivencia variable (barra de error grande)\n",
    "\n",
    "\n",
    "La relación parece ser más nominal que ordinal:\n",
    "\n",
    "Cada tipo de cabina parece tener su propia tasa de supervivencia distintiva\n",
    "Las diferencias entre cabinas no siguen un orden lógico\n",
    "Las barras de error (líneas negras) muestran solapamiento significativo"
   ]
  },
  {
   "cell_type": "code",
   "execution_count": 4437,
   "metadata": {},
   "outputs": [],
   "source": [
    "#train_df = pd.get_dummies(train_df, columns=[\"cabin\"], drop_first=True)\n",
    "#validation_df[\"cabin\"] = pd.get_dummies(validation_df[\"cabin\"], columns=[\"cabin\"], drop_first=True)\n",
    "#test_df[\"cabin\"] = pd.get_dummies(test_df[\"cabin\"], columns=[\"cabin\"], drop_first=True)\n",
    "# Initialize LabelEncoder\n"
   ]
  },
  {
   "cell_type": "markdown",
   "metadata": {},
   "source": [
    "For cabin we extract the first letter and encode it since it means the deck where it was located\n",
    "As seen in the overview cabin has 186 unique values.\n",
    "It follows that Unknown will be cabin_U\n",
    "\n",
    "With 186 unique values, one-hot encoding will create 186 new columns, which can significantly increase the dimensionality of your dataset. This is problematic for algorithms that suffer from the \"curse of dimensionality,\" like linear models or models with regularization (like Lasso or Ridge regression).\n"
   ]
  },
  {
   "cell_type": "markdown",
   "metadata": {},
   "source": [
    "Image: https://en.wikipedia.org/wiki/First-class_facilities_of_the_Titanic#/media/File:Olympic_&_Titanic_cutaway_diagram.png\n",
    "\n",
    "Information: https://www.dummies.com/article/academics-the-arts/history/20th-century/titanic-facts-the-layout-of-the-ship-180759/"
   ]
  },
  {
   "cell_type": "code",
   "execution_count": 4438,
   "metadata": {},
   "outputs": [
    {
     "data": {
      "text/html": [
       "<div>\n",
       "<style scoped>\n",
       "    .dataframe tbody tr th:only-of-type {\n",
       "        vertical-align: middle;\n",
       "    }\n",
       "\n",
       "    .dataframe tbody tr th {\n",
       "        vertical-align: top;\n",
       "    }\n",
       "\n",
       "    .dataframe thead th {\n",
       "        text-align: right;\n",
       "    }\n",
       "</style>\n",
       "<table border=\"1\" class=\"dataframe\">\n",
       "  <thead>\n",
       "    <tr style=\"text-align: right;\">\n",
       "      <th></th>\n",
       "      <th>pclass</th>\n",
       "      <th>survived</th>\n",
       "      <th>name</th>\n",
       "      <th>sex</th>\n",
       "      <th>age</th>\n",
       "      <th>sibsp</th>\n",
       "      <th>parch</th>\n",
       "      <th>fare</th>\n",
       "      <th>cabin</th>\n",
       "      <th>embarked</th>\n",
       "    </tr>\n",
       "  </thead>\n",
       "  <tbody>\n",
       "    <tr>\n",
       "      <th>0</th>\n",
       "      <td>1</td>\n",
       "      <td>1</td>\n",
       "      <td>Allen, Miss. Elisabeth Walton</td>\n",
       "      <td>female</td>\n",
       "      <td>29.0000</td>\n",
       "      <td>0</td>\n",
       "      <td>0</td>\n",
       "      <td>211.3375</td>\n",
       "      <td>B5</td>\n",
       "      <td>S</td>\n",
       "    </tr>\n",
       "    <tr>\n",
       "      <th>1</th>\n",
       "      <td>1</td>\n",
       "      <td>1</td>\n",
       "      <td>Allison, Master. Hudson Trevor</td>\n",
       "      <td>male</td>\n",
       "      <td>0.9167</td>\n",
       "      <td>1</td>\n",
       "      <td>2</td>\n",
       "      <td>151.5500</td>\n",
       "      <td>C22 C26</td>\n",
       "      <td>S</td>\n",
       "    </tr>\n",
       "    <tr>\n",
       "      <th>2</th>\n",
       "      <td>1</td>\n",
       "      <td>0</td>\n",
       "      <td>Allison, Miss. Helen Loraine</td>\n",
       "      <td>female</td>\n",
       "      <td>2.0000</td>\n",
       "      <td>1</td>\n",
       "      <td>2</td>\n",
       "      <td>151.5500</td>\n",
       "      <td>C22 C26</td>\n",
       "      <td>S</td>\n",
       "    </tr>\n",
       "    <tr>\n",
       "      <th>3</th>\n",
       "      <td>1</td>\n",
       "      <td>0</td>\n",
       "      <td>Allison, Mr. Hudson Joshua Creighton</td>\n",
       "      <td>male</td>\n",
       "      <td>30.0000</td>\n",
       "      <td>1</td>\n",
       "      <td>2</td>\n",
       "      <td>151.5500</td>\n",
       "      <td>C22 C26</td>\n",
       "      <td>S</td>\n",
       "    </tr>\n",
       "    <tr>\n",
       "      <th>4</th>\n",
       "      <td>1</td>\n",
       "      <td>0</td>\n",
       "      <td>Allison, Mrs. Hudson J C (Bessie Waldo Daniels)</td>\n",
       "      <td>female</td>\n",
       "      <td>25.0000</td>\n",
       "      <td>1</td>\n",
       "      <td>2</td>\n",
       "      <td>151.5500</td>\n",
       "      <td>C22 C26</td>\n",
       "      <td>S</td>\n",
       "    </tr>\n",
       "  </tbody>\n",
       "</table>\n",
       "</div>"
      ],
      "text/plain": [
       "   pclass  survived                                             name     sex  \\\n",
       "0       1         1                    Allen, Miss. Elisabeth Walton  female   \n",
       "1       1         1                   Allison, Master. Hudson Trevor    male   \n",
       "2       1         0                     Allison, Miss. Helen Loraine  female   \n",
       "3       1         0             Allison, Mr. Hudson Joshua Creighton    male   \n",
       "4       1         0  Allison, Mrs. Hudson J C (Bessie Waldo Daniels)  female   \n",
       "\n",
       "       age  sibsp  parch      fare    cabin embarked  \n",
       "0  29.0000      0      0  211.3375       B5        S  \n",
       "1   0.9167      1      2  151.5500  C22 C26        S  \n",
       "2   2.0000      1      2  151.5500  C22 C26        S  \n",
       "3  30.0000      1      2  151.5500  C22 C26        S  \n",
       "4  25.0000      1      2  151.5500  C22 C26        S  "
      ]
     },
     "execution_count": 4438,
     "metadata": {},
     "output_type": "execute_result"
    }
   ],
   "source": [
    "df.head()"
   ]
  },
  {
   "cell_type": "markdown",
   "metadata": {},
   "source": [
    "Label Encoding:\n",
    "Each unique category is assigned a Unique Integer value.\n",
    "This is a simpler encoding method, but it has a Drawback in that the assigned integers may be misinterpreted by the machine learning algorithm as having an Ordered Relationship when in fact they do not.\n",
    "\n",
    "\n",
    "Cuantos unique tickets hay para ver si it makes sense encode it"
   ]
  },
  {
   "cell_type": "markdown",
   "metadata": {},
   "source": [
    "## 7. Name: Feature Selection + Encoding"
   ]
  },
  {
   "cell_type": "code",
   "execution_count": 4439,
   "metadata": {},
   "outputs": [
    {
     "data": {
      "text/html": [
       "<div>\n",
       "<style scoped>\n",
       "    .dataframe tbody tr th:only-of-type {\n",
       "        vertical-align: middle;\n",
       "    }\n",
       "\n",
       "    .dataframe tbody tr th {\n",
       "        vertical-align: top;\n",
       "    }\n",
       "\n",
       "    .dataframe thead th {\n",
       "        text-align: right;\n",
       "    }\n",
       "</style>\n",
       "<table border=\"1\" class=\"dataframe\">\n",
       "  <thead>\n",
       "    <tr style=\"text-align: right;\">\n",
       "      <th></th>\n",
       "      <th>pclass</th>\n",
       "      <th>survived</th>\n",
       "      <th>name</th>\n",
       "      <th>age</th>\n",
       "      <th>sibsp</th>\n",
       "      <th>parch</th>\n",
       "      <th>fare</th>\n",
       "      <th>cabin</th>\n",
       "      <th>sex_male</th>\n",
       "      <th>embarked_Q</th>\n",
       "      <th>embarked_S</th>\n",
       "      <th>title</th>\n",
       "    </tr>\n",
       "  </thead>\n",
       "  <tbody>\n",
       "    <tr>\n",
       "      <th>829</th>\n",
       "      <td>3</td>\n",
       "      <td>0</td>\n",
       "      <td>Goodwin, Miss. Lillian Amy</td>\n",
       "      <td>16.000000</td>\n",
       "      <td>5</td>\n",
       "      <td>2</td>\n",
       "      <td>46.900</td>\n",
       "      <td>7</td>\n",
       "      <td>0.0</td>\n",
       "      <td>0.0</td>\n",
       "      <td>1.0</td>\n",
       "      <td>Miss</td>\n",
       "    </tr>\n",
       "    <tr>\n",
       "      <th>889</th>\n",
       "      <td>3</td>\n",
       "      <td>1</td>\n",
       "      <td>Johansson Palmquist, Mr. Oskar Leander</td>\n",
       "      <td>26.000000</td>\n",
       "      <td>0</td>\n",
       "      <td>0</td>\n",
       "      <td>7.775</td>\n",
       "      <td>7</td>\n",
       "      <td>1.0</td>\n",
       "      <td>0.0</td>\n",
       "      <td>1.0</td>\n",
       "      <td>Mr</td>\n",
       "    </tr>\n",
       "    <tr>\n",
       "      <th>330</th>\n",
       "      <td>2</td>\n",
       "      <td>0</td>\n",
       "      <td>Ashby, Mr. John</td>\n",
       "      <td>57.000000</td>\n",
       "      <td>0</td>\n",
       "      <td>0</td>\n",
       "      <td>13.000</td>\n",
       "      <td>7</td>\n",
       "      <td>1.0</td>\n",
       "      <td>0.0</td>\n",
       "      <td>1.0</td>\n",
       "      <td>Mr</td>\n",
       "    </tr>\n",
       "    <tr>\n",
       "      <th>91</th>\n",
       "      <td>1</td>\n",
       "      <td>1</td>\n",
       "      <td>Dick, Mr. Albert Adrian</td>\n",
       "      <td>31.000000</td>\n",
       "      <td>1</td>\n",
       "      <td>0</td>\n",
       "      <td>57.000</td>\n",
       "      <td>1</td>\n",
       "      <td>1.0</td>\n",
       "      <td>0.0</td>\n",
       "      <td>1.0</td>\n",
       "      <td>Mr</td>\n",
       "    </tr>\n",
       "    <tr>\n",
       "      <th>808</th>\n",
       "      <td>3</td>\n",
       "      <td>0</td>\n",
       "      <td>Ford, Mr. Arthur</td>\n",
       "      <td>24.913917</td>\n",
       "      <td>0</td>\n",
       "      <td>0</td>\n",
       "      <td>8.050</td>\n",
       "      <td>7</td>\n",
       "      <td>1.0</td>\n",
       "      <td>0.0</td>\n",
       "      <td>1.0</td>\n",
       "      <td>Mr</td>\n",
       "    </tr>\n",
       "  </tbody>\n",
       "</table>\n",
       "</div>"
      ],
      "text/plain": [
       "     pclass  survived                                    name        age  \\\n",
       "829       3         0              Goodwin, Miss. Lillian Amy  16.000000   \n",
       "889       3         1  Johansson Palmquist, Mr. Oskar Leander  26.000000   \n",
       "330       2         0                         Ashby, Mr. John  57.000000   \n",
       "91        1         1                 Dick, Mr. Albert Adrian  31.000000   \n",
       "808       3         0                        Ford, Mr. Arthur  24.913917   \n",
       "\n",
       "     sibsp  parch    fare  cabin  sex_male  embarked_Q  embarked_S title  \n",
       "829      5      2  46.900      7       0.0         0.0         1.0  Miss  \n",
       "889      0      0   7.775      7       1.0         0.0         1.0    Mr  \n",
       "330      0      0  13.000      7       1.0         0.0         1.0    Mr  \n",
       "91       1      0  57.000      1       1.0         0.0         1.0    Mr  \n",
       "808      0      0   8.050      7       1.0         0.0         1.0    Mr  "
      ]
     },
     "execution_count": 4439,
     "metadata": {},
     "output_type": "execute_result"
    }
   ],
   "source": [
    "import re\n",
    "\n",
    "# Función para extraer el título del nombre\n",
    "def extract_title(name):\n",
    "    # Usamos una expresión regular para encontrar la palabra antes del primer punto\n",
    "    title = re.findall(r'([A-Za-z]+)\\.', name)\n",
    "    return title[0] if title else None  # Retorna el título encontrado, o None si no hay\n",
    "\n",
    "\n",
    "train_df['title'] = train_df['name'].apply(extract_title)\n",
    "validation_df['title'] = validation_df['name'].apply(extract_title)\n",
    "test_df['title'] = test_df['name'].apply(extract_title)\n",
    "\n",
    "train_df.head(5)\n"
   ]
  },
  {
   "cell_type": "code",
   "execution_count": 4440,
   "metadata": {},
   "outputs": [
    {
     "data": {
      "text/html": [
       "<div>\n",
       "<style scoped>\n",
       "    .dataframe tbody tr th:only-of-type {\n",
       "        vertical-align: middle;\n",
       "    }\n",
       "\n",
       "    .dataframe tbody tr th {\n",
       "        vertical-align: top;\n",
       "    }\n",
       "\n",
       "    .dataframe thead th {\n",
       "        text-align: right;\n",
       "    }\n",
       "</style>\n",
       "<table border=\"1\" class=\"dataframe\">\n",
       "  <thead>\n",
       "    <tr style=\"text-align: right;\">\n",
       "      <th></th>\n",
       "      <th>pclass</th>\n",
       "      <th>survived</th>\n",
       "      <th>name</th>\n",
       "      <th>age</th>\n",
       "      <th>sibsp</th>\n",
       "      <th>parch</th>\n",
       "      <th>fare</th>\n",
       "      <th>cabin</th>\n",
       "      <th>sex_male</th>\n",
       "      <th>embarked_Q</th>\n",
       "      <th>embarked_S</th>\n",
       "      <th>title</th>\n",
       "    </tr>\n",
       "  </thead>\n",
       "  <tbody>\n",
       "    <tr>\n",
       "      <th>848</th>\n",
       "      <td>3</td>\n",
       "      <td>0</td>\n",
       "      <td>Hansen, Mr. Claus Peter</td>\n",
       "      <td>41.000000</td>\n",
       "      <td>2</td>\n",
       "      <td>0</td>\n",
       "      <td>14.1083</td>\n",
       "      <td>7</td>\n",
       "      <td>1.0</td>\n",
       "      <td>0.0</td>\n",
       "      <td>1.0</td>\n",
       "      <td>Mr</td>\n",
       "    </tr>\n",
       "    <tr>\n",
       "      <th>610</th>\n",
       "      <td>3</td>\n",
       "      <td>0</td>\n",
       "      <td>Ahlin, Mrs. Johan (Johanna Persdotter Larsson)</td>\n",
       "      <td>40.000000</td>\n",
       "      <td>1</td>\n",
       "      <td>0</td>\n",
       "      <td>9.4750</td>\n",
       "      <td>7</td>\n",
       "      <td>0.0</td>\n",
       "      <td>0.0</td>\n",
       "      <td>1.0</td>\n",
       "      <td>Mrs</td>\n",
       "    </tr>\n",
       "    <tr>\n",
       "      <th>788</th>\n",
       "      <td>3</td>\n",
       "      <td>0</td>\n",
       "      <td>Ekstrom, Mr. Johan</td>\n",
       "      <td>45.000000</td>\n",
       "      <td>0</td>\n",
       "      <td>0</td>\n",
       "      <td>6.9750</td>\n",
       "      <td>7</td>\n",
       "      <td>1.0</td>\n",
       "      <td>0.0</td>\n",
       "      <td>1.0</td>\n",
       "      <td>Mr</td>\n",
       "    </tr>\n",
       "    <tr>\n",
       "      <th>1124</th>\n",
       "      <td>3</td>\n",
       "      <td>0</td>\n",
       "      <td>Peters, Miss. Katie</td>\n",
       "      <td>24.913917</td>\n",
       "      <td>0</td>\n",
       "      <td>0</td>\n",
       "      <td>8.1375</td>\n",
       "      <td>7</td>\n",
       "      <td>0.0</td>\n",
       "      <td>1.0</td>\n",
       "      <td>0.0</td>\n",
       "      <td>Miss</td>\n",
       "    </tr>\n",
       "    <tr>\n",
       "      <th>511</th>\n",
       "      <td>2</td>\n",
       "      <td>0</td>\n",
       "      <td>Myles, Mr. Thomas Francis</td>\n",
       "      <td>62.000000</td>\n",
       "      <td>0</td>\n",
       "      <td>0</td>\n",
       "      <td>9.6875</td>\n",
       "      <td>7</td>\n",
       "      <td>1.0</td>\n",
       "      <td>1.0</td>\n",
       "      <td>0.0</td>\n",
       "      <td>Mr</td>\n",
       "    </tr>\n",
       "  </tbody>\n",
       "</table>\n",
       "</div>"
      ],
      "text/plain": [
       "      pclass  survived                                            name  \\\n",
       "848        3         0                         Hansen, Mr. Claus Peter   \n",
       "610        3         0  Ahlin, Mrs. Johan (Johanna Persdotter Larsson)   \n",
       "788        3         0                              Ekstrom, Mr. Johan   \n",
       "1124       3         0                             Peters, Miss. Katie   \n",
       "511        2         0                       Myles, Mr. Thomas Francis   \n",
       "\n",
       "            age  sibsp  parch     fare  cabin  sex_male  embarked_Q  \\\n",
       "848   41.000000      2      0  14.1083      7       1.0         0.0   \n",
       "610   40.000000      1      0   9.4750      7       0.0         0.0   \n",
       "788   45.000000      0      0   6.9750      7       1.0         0.0   \n",
       "1124  24.913917      0      0   8.1375      7       0.0         1.0   \n",
       "511   62.000000      0      0   9.6875      7       1.0         1.0   \n",
       "\n",
       "      embarked_S title  \n",
       "848          1.0    Mr  \n",
       "610          1.0   Mrs  \n",
       "788          1.0    Mr  \n",
       "1124         0.0  Miss  \n",
       "511          0.0    Mr  "
      ]
     },
     "execution_count": 4440,
     "metadata": {},
     "output_type": "execute_result"
    }
   ],
   "source": [
    "train_df.tail(5)"
   ]
  },
  {
   "cell_type": "code",
   "execution_count": 4441,
   "metadata": {},
   "outputs": [
    {
     "name": "stdout",
     "output_type": "stream",
     "text": [
      "0\n"
     ]
    }
   ],
   "source": [
    "missing_values_count = train_df['title'].isnull().sum()\n",
    "print(missing_values_count) #no missing values for title"
   ]
  },
  {
   "cell_type": "code",
   "execution_count": 4442,
   "metadata": {},
   "outputs": [
    {
     "data": {
      "text/plain": [
       "13"
      ]
     },
     "execution_count": 4442,
     "metadata": {},
     "output_type": "execute_result"
    }
   ],
   "source": [
    "train_df['title'].nunique()"
   ]
  },
  {
   "cell_type": "code",
   "execution_count": 4443,
   "metadata": {},
   "outputs": [
    {
     "data": {
      "text/plain": [
       "array(['Miss', 'Mr', 'Mrs', 'Dr', 'Rev', 'Master', 'Mme', 'Jonkheer',\n",
       "       'Dona', 'Col', 'Sir', 'Ms', 'Mlle'], dtype=object)"
      ]
     },
     "execution_count": 4443,
     "metadata": {},
     "output_type": "execute_result"
    }
   ],
   "source": [
    "train_df['title'].unique()"
   ]
  },
  {
   "cell_type": "code",
   "execution_count": 4444,
   "metadata": {},
   "outputs": [
    {
     "name": "stderr",
     "output_type": "stream",
     "text": [
      "/var/folders/_l/fwt_9dvs30g55rs94h95qn8w0000gn/T/ipykernel_64091/3003796953.py:4: FutureWarning: \n",
      "\n",
      "Passing `palette` without assigning `hue` is deprecated and will be removed in v0.14.0. Assign the `y` variable to `hue` and set `legend=False` for the same effect.\n",
      "\n",
      "  sns.boxplot(x='title', data=train_df, palette=['lightgreen'])\n"
     ]
    },
    {
     "data": {
      "text/plain": [
       "Text(0.5, 1.0, 'Title Box Plot')"
      ]
     },
     "execution_count": 4444,
     "metadata": {},
     "output_type": "execute_result"
    },
    {
     "data": {
      "image/png": "[encoded data removed]",
      "text/plain": [
       "<Figure size 640x480 with 1 Axes>"
      ]
     },
     "metadata": {},
     "output_type": "display_data"
    }
   ],
   "source": [
    "#boxplot of titles -> many rare ones, many outliers, group as others\n",
    "#Since i had an error when computing the title vs survival I realized\n",
    "# Box plot Age\n",
    "sns.boxplot(x='title', data=train_df, palette=['lightgreen'])\n",
    "plt.title('Title Box Plot')"
   ]
  },
  {
   "cell_type": "code",
   "execution_count": 4445,
   "metadata": {},
   "outputs": [
    {
     "name": "stdout",
     "output_type": "stream",
     "text": [
      "title\n",
      "Mr          617\n",
      "Miss        205\n",
      "Mrs         156\n",
      "Master       45\n",
      "Dr            7\n",
      "Rev           7\n",
      "Col           4\n",
      "Mme           1\n",
      "Jonkheer      1\n",
      "Dona          1\n",
      "Sir           1\n",
      "Ms            1\n",
      "Mlle          1\n",
      "Name: count, dtype: int64\n"
     ]
    }
   ],
   "source": [
    "title_counts = train_df['title'].value_counts()\n",
    "print(title_counts)\n"
   ]
  },
  {
   "cell_type": "code",
   "execution_count": 4446,
   "metadata": {},
   "outputs": [
    {
     "data": {
      "image/png": "[encoded data removed]",
      "text/plain": [
       "<Figure size 640x480 with 1 Axes>"
      ]
     },
     "metadata": {},
     "output_type": "display_data"
    }
   ],
   "source": [
    "plt.hist(train_df[train_df['survived'] == 1]['title'].dropna(), bins=20, alpha=0.6, label='Survived', color='lightgreen')\n",
    "\n",
    "plt.hist(train_df[train_df['survived'] == 0]['title'].dropna(), bins=20, alpha=0.6, label='Deceased', color='skyblue')\n",
    "\n",
    "\n",
    "plt.xlabel('Title')\n",
    "plt.ylabel('Quantity')\n",
    "plt.title('Survival by Title')\n",
    "plt.legend()\n",
    "plt.xticks(rotation = 45, fontsize=8)\n",
    "plt.show()"
   ]
  },
  {
   "cell_type": "markdown",
   "metadata": {},
   "source": [
    "Outliers "
   ]
  },
  {
   "cell_type": "code",
   "execution_count": 4447,
   "metadata": {},
   "outputs": [
    {
     "name": "stdout",
     "output_type": "stream",
     "text": [
      "\n",
      "Final Outlier Titles (to be replaced with 'Others'):\n",
      " {'Jonkheer', 'Sir', 'Dona', 'Mlle', 'Countess', 'Rev', 'Major', 'Mme', 'Capt', 'Lady', 'Col', 'Don', 'Dr', 'Ms'}\n",
      "\n",
      "Unique Titles in Train Dataset After Outlier Replacement:\n",
      "title\n",
      "Mr        617\n",
      "Miss      205\n",
      "Mrs       156\n",
      "Master     45\n",
      "Others     24\n",
      "Name: count, dtype: int64 \n",
      "\n",
      "Unique Titles in Validation Dataset After Outlier Replacement:\n",
      "title\n",
      "Mr        72\n",
      "Miss      28\n",
      "Mrs       17\n",
      "Master     9\n",
      "Others     5\n",
      "Name: count, dtype: int64 \n",
      "\n",
      "Unique Titles in Test Dataset After Outlier Replacement:\n",
      "title\n",
      "Mr        68\n",
      "Miss      27\n",
      "Mrs       24\n",
      "Master     7\n",
      "Others     5\n",
      "Name: count, dtype: int64 \n",
      "\n"
     ]
    }
   ],
   "source": [
    "# Step 1: Compute Title Counts from `train_df`\n",
    "title_counts = train_df[\"title\"].value_counts()\n",
    "\n",
    "# Step 2: Define Threshold for Rare Titles in Train Data\n",
    "outlier_threshold = 5  # Titles appearing <10 times are considered rare\n",
    "\n",
    "# Step 3: Identify Rare Titles in `train_df`\n",
    "outliers_train = title_counts[title_counts < outlier_threshold]\n",
    "outlier_titles = set(outliers_train.index)  # Convert to set for fast lookup\n",
    "\n",
    "# Step 4: Identify Additional Rare Titles in `validation_df` and `test_df` Separately\n",
    "for df in [validation_df, test_df]:\n",
    "    rare_titles_in_df = df[\"title\"].value_counts()[df[\"title\"].value_counts() < outlier_threshold].index\n",
    "    outlier_titles.update(rare_titles_in_df)  # Add validation/test outliers\n",
    "\n",
    "# 🔍 Debug: Print Final List of Titles to be Replaced\n",
    "print(\"\\nFinal Outlier Titles (to be replaced with 'Others'):\\n\", outlier_titles)\n",
    "\n",
    "# Step 5: Replace Rare Titles with \"Others\" in All Datasets\n",
    "for df in [train_df, validation_df, test_df]:\n",
    "    df.loc[df['title'].isin(outlier_titles), 'title'] = 'Others'\n",
    "\n",
    "# Step 6: Verify Changes\n",
    "print(\"\\nUnique Titles in Train Dataset After Outlier Replacement:\")\n",
    "print(train_df['title'].value_counts(), \"\\n\")\n",
    "\n",
    "print(\"Unique Titles in Validation Dataset After Outlier Replacement:\")\n",
    "print(validation_df['title'].value_counts(), \"\\n\")\n",
    "\n",
    "print(\"Unique Titles in Test Dataset After Outlier Replacement:\")\n",
    "print(test_df['title'].value_counts(), \"\\n\")\n"
   ]
  },
  {
   "cell_type": "code",
   "execution_count": 4448,
   "metadata": {},
   "outputs": [
    {
     "data": {
      "image/png": "[encoded data removed]",
      "text/plain": [
       "<Figure size 640x480 with 1 Axes>"
      ]
     },
     "metadata": {},
     "output_type": "display_data"
    }
   ],
   "source": [
    "plt.hist(train_df[train_df['survived'] == 1]['title'].dropna(), bins=20, alpha=0.6, label='Survived', color='lightgreen')\n",
    "\n",
    "plt.hist(train_df[train_df['survived'] == 0]['title'].dropna(), bins=20, alpha=0.6, label='Deceased', color='skyblue')\n",
    "\n",
    "plt.ylabel('Quantity')\n",
    "plt.xlabel('Title')\n",
    "plt.title('Survival by Title')\n",
    "plt.legend()\n",
    "plt.xticks(rotation = 45, fontsize=8)\n",
    "plt.show()"
   ]
  },
  {
   "cell_type": "markdown",
   "metadata": {},
   "source": [
    " If there is a natural order to the titles (e.g., \"Master\" might indicate younger passengers)."
   ]
  },
  {
   "cell_type": "code",
   "execution_count": 4449,
   "metadata": {},
   "outputs": [],
   "source": [
    "#contingency_table = pd.crosstab(df['survived'], df['title'])\n",
    "\n",
    "#chi2, p, dof, expected = chi2_contingency(contingency_table)\n",
    "\n",
    "#print(f\"Chi2 Statistic: {chi2}\")\n",
    "#print(f\"P-value: {p}\")"
   ]
  },
  {
   "cell_type": "code",
   "execution_count": 4450,
   "metadata": {},
   "outputs": [],
   "source": [
    "train_df = train_df.drop(columns=['name'])\n",
    "validation_df = validation_df.drop(columns=['name'])\n",
    "test_df = test_df.drop(columns=['name'])"
   ]
  },
  {
   "cell_type": "code",
   "execution_count": 4451,
   "metadata": {},
   "outputs": [],
   "source": [
    "ohe_title = OneHotEncoder(handle_unknown='ignore', drop='first', sparse_output=False)\n",
    "\n",
    "ohe_title.fit(train_df[['title']])\n",
    "\n",
    "train_title_ohe = ohe_title.transform(train_df[['title']])\n",
    "validation_title_ohe = ohe_title.transform(validation_df[['title']])\n",
    "test_title_ohe = ohe_title.transform(test_df[['title']])\n",
    "\n",
    "# Convert transformed arrays into DataFrames with correct column names\n",
    "title_ohe_cols = ohe_title.get_feature_names_out(['title'])\n",
    "\n",
    "train_title_ohe = pd.DataFrame(train_title_ohe, columns=title_ohe_cols, index=train_df.index)\n",
    "validation_title_ohe = pd.DataFrame(validation_title_ohe, columns=title_ohe_cols, index=validation_df.index)\n",
    "test_title_ohe = pd.DataFrame(test_title_ohe, columns=title_ohe_cols, index=test_df.index)\n",
    "\n",
    "# Drop original `title` column and merge the one-hot encoded columns\n",
    "train_df = train_df.drop(columns=['title']).join(train_title_ohe)\n",
    "validation_df = validation_df.drop(columns=['title']).join(validation_title_ohe)\n",
    "test_df = test_df.drop(columns=['title']).join(test_title_ohe)"
   ]
  },
  {
   "cell_type": "code",
   "execution_count": 4452,
   "metadata": {},
   "outputs": [
    {
     "data": {
      "text/html": [
       "<div>\n",
       "<style scoped>\n",
       "    .dataframe tbody tr th:only-of-type {\n",
       "        vertical-align: middle;\n",
       "    }\n",
       "\n",
       "    .dataframe tbody tr th {\n",
       "        vertical-align: top;\n",
       "    }\n",
       "\n",
       "    .dataframe thead th {\n",
       "        text-align: right;\n",
       "    }\n",
       "</style>\n",
       "<table border=\"1\" class=\"dataframe\">\n",
       "  <thead>\n",
       "    <tr style=\"text-align: right;\">\n",
       "      <th></th>\n",
       "      <th>pclass</th>\n",
       "      <th>survived</th>\n",
       "      <th>age</th>\n",
       "      <th>sibsp</th>\n",
       "      <th>parch</th>\n",
       "      <th>fare</th>\n",
       "      <th>cabin</th>\n",
       "      <th>sex_male</th>\n",
       "      <th>embarked_Q</th>\n",
       "      <th>embarked_S</th>\n",
       "      <th>title_Miss</th>\n",
       "      <th>title_Mr</th>\n",
       "      <th>title_Mrs</th>\n",
       "      <th>title_Others</th>\n",
       "    </tr>\n",
       "  </thead>\n",
       "  <tbody>\n",
       "    <tr>\n",
       "      <th>829</th>\n",
       "      <td>3</td>\n",
       "      <td>0</td>\n",
       "      <td>16.000000</td>\n",
       "      <td>5</td>\n",
       "      <td>2</td>\n",
       "      <td>46.900</td>\n",
       "      <td>7</td>\n",
       "      <td>0.0</td>\n",
       "      <td>0.0</td>\n",
       "      <td>1.0</td>\n",
       "      <td>1.0</td>\n",
       "      <td>0.0</td>\n",
       "      <td>0.0</td>\n",
       "      <td>0.0</td>\n",
       "    </tr>\n",
       "    <tr>\n",
       "      <th>889</th>\n",
       "      <td>3</td>\n",
       "      <td>1</td>\n",
       "      <td>26.000000</td>\n",
       "      <td>0</td>\n",
       "      <td>0</td>\n",
       "      <td>7.775</td>\n",
       "      <td>7</td>\n",
       "      <td>1.0</td>\n",
       "      <td>0.0</td>\n",
       "      <td>1.0</td>\n",
       "      <td>0.0</td>\n",
       "      <td>1.0</td>\n",
       "      <td>0.0</td>\n",
       "      <td>0.0</td>\n",
       "    </tr>\n",
       "    <tr>\n",
       "      <th>330</th>\n",
       "      <td>2</td>\n",
       "      <td>0</td>\n",
       "      <td>57.000000</td>\n",
       "      <td>0</td>\n",
       "      <td>0</td>\n",
       "      <td>13.000</td>\n",
       "      <td>7</td>\n",
       "      <td>1.0</td>\n",
       "      <td>0.0</td>\n",
       "      <td>1.0</td>\n",
       "      <td>0.0</td>\n",
       "      <td>1.0</td>\n",
       "      <td>0.0</td>\n",
       "      <td>0.0</td>\n",
       "    </tr>\n",
       "    <tr>\n",
       "      <th>91</th>\n",
       "      <td>1</td>\n",
       "      <td>1</td>\n",
       "      <td>31.000000</td>\n",
       "      <td>1</td>\n",
       "      <td>0</td>\n",
       "      <td>57.000</td>\n",
       "      <td>1</td>\n",
       "      <td>1.0</td>\n",
       "      <td>0.0</td>\n",
       "      <td>1.0</td>\n",
       "      <td>0.0</td>\n",
       "      <td>1.0</td>\n",
       "      <td>0.0</td>\n",
       "      <td>0.0</td>\n",
       "    </tr>\n",
       "    <tr>\n",
       "      <th>808</th>\n",
       "      <td>3</td>\n",
       "      <td>0</td>\n",
       "      <td>24.913917</td>\n",
       "      <td>0</td>\n",
       "      <td>0</td>\n",
       "      <td>8.050</td>\n",
       "      <td>7</td>\n",
       "      <td>1.0</td>\n",
       "      <td>0.0</td>\n",
       "      <td>1.0</td>\n",
       "      <td>0.0</td>\n",
       "      <td>1.0</td>\n",
       "      <td>0.0</td>\n",
       "      <td>0.0</td>\n",
       "    </tr>\n",
       "  </tbody>\n",
       "</table>\n",
       "</div>"
      ],
      "text/plain": [
       "     pclass  survived        age  sibsp  parch    fare  cabin  sex_male  \\\n",
       "829       3         0  16.000000      5      2  46.900      7       0.0   \n",
       "889       3         1  26.000000      0      0   7.775      7       1.0   \n",
       "330       2         0  57.000000      0      0  13.000      7       1.0   \n",
       "91        1         1  31.000000      1      0  57.000      1       1.0   \n",
       "808       3         0  24.913917      0      0   8.050      7       1.0   \n",
       "\n",
       "     embarked_Q  embarked_S  title_Miss  title_Mr  title_Mrs  title_Others  \n",
       "829         0.0         1.0         1.0       0.0        0.0           0.0  \n",
       "889         0.0         1.0         0.0       1.0        0.0           0.0  \n",
       "330         0.0         1.0         0.0       1.0        0.0           0.0  \n",
       "91          0.0         1.0         0.0       1.0        0.0           0.0  \n",
       "808         0.0         1.0         0.0       1.0        0.0           0.0  "
      ]
     },
     "execution_count": 4452,
     "metadata": {},
     "output_type": "execute_result"
    }
   ],
   "source": [
    "train_df.head()"
   ]
  },
  {
   "cell_type": "markdown",
   "metadata": {},
   "source": [
    "Extremely low -> PREDICTS A LOT -> NO DROPPING \n",
    "AND NO MISSING VALUES!"
   ]
  },
  {
   "cell_type": "markdown",
   "metadata": {},
   "source": [
    "CHECK CORRELATION BETWEEN TITLE AND SPOUSE CHILDREN ETC. porque generalmente es un indicador\n",
    "ex. \n",
    "\"Chibnall, Mrs.\": This part typically indicates the surname and the title (in this case, \"Mrs.\" indicates that the person is married). It follows the standard \"Surname, Title\" format used in the Titanic passenger records."
   ]
  },
  {
   "cell_type": "markdown",
   "metadata": {},
   "source": [
    "## 4. Feature scaling "
   ]
  },
  {
   "cell_type": "markdown",
   "metadata": {},
   "source": [
    "Weak rule of thumb:\n",
    "● Normalization tends to work better for uniformly distributed data\n",
    "● Standardization tends to work best for normally distributed data."
   ]
  },
  {
   "cell_type": "markdown",
   "metadata": {},
   "source": [
    "## 7. Sibsp and Parch: Feature Selection + Feature Scaling"
   ]
  },
  {
   "cell_type": "markdown",
   "metadata": {},
   "source": [
    "Correlation Check: Check if sibsp and parch are strongly correlated (which they likely are). Highly correlated features might lead to multicollinearity, making it harder for some models to interpret them effectively. Combining them into one feature might help mitigate this issue."
   ]
  },
  {
   "cell_type": "code",
   "execution_count": 4453,
   "metadata": {},
   "outputs": [
    {
     "name": "stdout",
     "output_type": "stream",
     "text": [
      "         sibsp    parch\n",
      "sibsp  1.00000  0.34081\n",
      "parch  0.34081  1.00000\n"
     ]
    }
   ],
   "source": [
    "# Calculate the correlation between 'sibsp' and 'parch'\n",
    "correlation = train_df[['sibsp', 'parch']].corr()\n",
    "\n",
    "# Display the correlation matrix\n",
    "print(correlation)\n"
   ]
  },
  {
   "cell_type": "markdown",
   "metadata": {},
   "source": [
    "The correlation coefficient between sibsp and parch is 0.37, which indicates a low to moderate positive correlation between the two features. While they are not highly correlated, this suggests that there is some relationship between the number of siblings/spouses aboard (sibsp) and the number of parents/children aboard (parch).\n",
    "\n",
    "Given this moderate correlation, it is still reasonable to combine sibsp and parch into a new feature such as familysize.\n"
   ]
  },
  {
   "cell_type": "code",
   "execution_count": 4454,
   "metadata": {},
   "outputs": [
    {
     "data": {
      "text/html": [
       "<div>\n",
       "<style scoped>\n",
       "    .dataframe tbody tr th:only-of-type {\n",
       "        vertical-align: middle;\n",
       "    }\n",
       "\n",
       "    .dataframe tbody tr th {\n",
       "        vertical-align: top;\n",
       "    }\n",
       "\n",
       "    .dataframe thead th {\n",
       "        text-align: right;\n",
       "    }\n",
       "</style>\n",
       "<table border=\"1\" class=\"dataframe\">\n",
       "  <thead>\n",
       "    <tr style=\"text-align: right;\">\n",
       "      <th></th>\n",
       "      <th>pclass</th>\n",
       "      <th>survived</th>\n",
       "      <th>age</th>\n",
       "      <th>fare</th>\n",
       "      <th>cabin</th>\n",
       "      <th>sex_male</th>\n",
       "      <th>embarked_Q</th>\n",
       "      <th>embarked_S</th>\n",
       "      <th>title_Miss</th>\n",
       "      <th>title_Mr</th>\n",
       "      <th>title_Mrs</th>\n",
       "      <th>title_Others</th>\n",
       "      <th>family.size</th>\n",
       "    </tr>\n",
       "  </thead>\n",
       "  <tbody>\n",
       "    <tr>\n",
       "      <th>829</th>\n",
       "      <td>3</td>\n",
       "      <td>0</td>\n",
       "      <td>16.000000</td>\n",
       "      <td>46.900</td>\n",
       "      <td>7</td>\n",
       "      <td>0.0</td>\n",
       "      <td>0.0</td>\n",
       "      <td>1.0</td>\n",
       "      <td>1.0</td>\n",
       "      <td>0.0</td>\n",
       "      <td>0.0</td>\n",
       "      <td>0.0</td>\n",
       "      <td>8</td>\n",
       "    </tr>\n",
       "    <tr>\n",
       "      <th>889</th>\n",
       "      <td>3</td>\n",
       "      <td>1</td>\n",
       "      <td>26.000000</td>\n",
       "      <td>7.775</td>\n",
       "      <td>7</td>\n",
       "      <td>1.0</td>\n",
       "      <td>0.0</td>\n",
       "      <td>1.0</td>\n",
       "      <td>0.0</td>\n",
       "      <td>1.0</td>\n",
       "      <td>0.0</td>\n",
       "      <td>0.0</td>\n",
       "      <td>1</td>\n",
       "    </tr>\n",
       "    <tr>\n",
       "      <th>330</th>\n",
       "      <td>2</td>\n",
       "      <td>0</td>\n",
       "      <td>57.000000</td>\n",
       "      <td>13.000</td>\n",
       "      <td>7</td>\n",
       "      <td>1.0</td>\n",
       "      <td>0.0</td>\n",
       "      <td>1.0</td>\n",
       "      <td>0.0</td>\n",
       "      <td>1.0</td>\n",
       "      <td>0.0</td>\n",
       "      <td>0.0</td>\n",
       "      <td>1</td>\n",
       "    </tr>\n",
       "    <tr>\n",
       "      <th>91</th>\n",
       "      <td>1</td>\n",
       "      <td>1</td>\n",
       "      <td>31.000000</td>\n",
       "      <td>57.000</td>\n",
       "      <td>1</td>\n",
       "      <td>1.0</td>\n",
       "      <td>0.0</td>\n",
       "      <td>1.0</td>\n",
       "      <td>0.0</td>\n",
       "      <td>1.0</td>\n",
       "      <td>0.0</td>\n",
       "      <td>0.0</td>\n",
       "      <td>2</td>\n",
       "    </tr>\n",
       "    <tr>\n",
       "      <th>808</th>\n",
       "      <td>3</td>\n",
       "      <td>0</td>\n",
       "      <td>24.913917</td>\n",
       "      <td>8.050</td>\n",
       "      <td>7</td>\n",
       "      <td>1.0</td>\n",
       "      <td>0.0</td>\n",
       "      <td>1.0</td>\n",
       "      <td>0.0</td>\n",
       "      <td>1.0</td>\n",
       "      <td>0.0</td>\n",
       "      <td>0.0</td>\n",
       "      <td>1</td>\n",
       "    </tr>\n",
       "  </tbody>\n",
       "</table>\n",
       "</div>"
      ],
      "text/plain": [
       "     pclass  survived        age    fare  cabin  sex_male  embarked_Q  \\\n",
       "829       3         0  16.000000  46.900      7       0.0         0.0   \n",
       "889       3         1  26.000000   7.775      7       1.0         0.0   \n",
       "330       2         0  57.000000  13.000      7       1.0         0.0   \n",
       "91        1         1  31.000000  57.000      1       1.0         0.0   \n",
       "808       3         0  24.913917   8.050      7       1.0         0.0   \n",
       "\n",
       "     embarked_S  title_Miss  title_Mr  title_Mrs  title_Others  family.size  \n",
       "829         1.0         1.0       0.0        0.0           0.0            8  \n",
       "889         1.0         0.0       1.0        0.0           0.0            1  \n",
       "330         1.0         0.0       1.0        0.0           0.0            1  \n",
       "91          1.0         0.0       1.0        0.0           0.0            2  \n",
       "808         1.0         0.0       1.0        0.0           0.0            1  "
      ]
     },
     "execution_count": 4454,
     "metadata": {},
     "output_type": "execute_result"
    }
   ],
   "source": [
    "train_df['family.size'] = train_df['sibsp'] + train_df['parch'] + 1\n",
    "train_df = train_df.drop(columns = ['sibsp', 'parch'])\n",
    "train_df.head()"
   ]
  },
  {
   "cell_type": "code",
   "execution_count": 4455,
   "metadata": {},
   "outputs": [],
   "source": [
    "validation_df['family.size'] = validation_df['sibsp'] + validation_df['parch'] + 1\n",
    "validation_df = validation_df.drop(columns = ['sibsp', 'parch'])\n",
    "\n",
    "test_df['family.size'] = test_df['sibsp'] + test_df['parch'] + 1\n",
    "test_df = test_df.drop(columns = ['sibsp', 'parch'])\n",
    "\n"
   ]
  },
  {
   "cell_type": "markdown",
   "metadata": {},
   "source": [
    "FROM EXPLORATORY ANALYSIS\n",
    "Age Distribution: normal\n",
    "Fare Distribution: left skewed"
   ]
  },
  {
   "cell_type": "code",
   "execution_count": 4456,
   "metadata": {},
   "outputs": [
    {
     "data": {
      "text/html": [
       "<div>\n",
       "<style scoped>\n",
       "    .dataframe tbody tr th:only-of-type {\n",
       "        vertical-align: middle;\n",
       "    }\n",
       "\n",
       "    .dataframe tbody tr th {\n",
       "        vertical-align: top;\n",
       "    }\n",
       "\n",
       "    .dataframe thead th {\n",
       "        text-align: right;\n",
       "    }\n",
       "</style>\n",
       "<table border=\"1\" class=\"dataframe\">\n",
       "  <thead>\n",
       "    <tr style=\"text-align: right;\">\n",
       "      <th></th>\n",
       "      <th>pclass</th>\n",
       "      <th>survived</th>\n",
       "      <th>age</th>\n",
       "      <th>fare</th>\n",
       "      <th>cabin</th>\n",
       "      <th>sex_male</th>\n",
       "      <th>embarked_Q</th>\n",
       "      <th>embarked_S</th>\n",
       "      <th>title_Miss</th>\n",
       "      <th>title_Mr</th>\n",
       "      <th>title_Mrs</th>\n",
       "      <th>title_Others</th>\n",
       "      <th>family.size</th>\n",
       "    </tr>\n",
       "  </thead>\n",
       "  <tbody>\n",
       "    <tr>\n",
       "      <th>829</th>\n",
       "      <td>0.857185</td>\n",
       "      <td>0</td>\n",
       "      <td>-1.036227</td>\n",
       "      <td>0.247610</td>\n",
       "      <td>7</td>\n",
       "      <td>0.0</td>\n",
       "      <td>0.0</td>\n",
       "      <td>1.0</td>\n",
       "      <td>1.0</td>\n",
       "      <td>0.0</td>\n",
       "      <td>0.0</td>\n",
       "      <td>0.0</td>\n",
       "      <td>4.212663</td>\n",
       "    </tr>\n",
       "    <tr>\n",
       "      <th>889</th>\n",
       "      <td>0.857185</td>\n",
       "      <td>1</td>\n",
       "      <td>-0.264901</td>\n",
       "      <td>-0.500905</td>\n",
       "      <td>7</td>\n",
       "      <td>1.0</td>\n",
       "      <td>0.0</td>\n",
       "      <td>1.0</td>\n",
       "      <td>0.0</td>\n",
       "      <td>1.0</td>\n",
       "      <td>0.0</td>\n",
       "      <td>0.0</td>\n",
       "      <td>-0.573356</td>\n",
       "    </tr>\n",
       "    <tr>\n",
       "      <th>330</th>\n",
       "      <td>-0.333097</td>\n",
       "      <td>0</td>\n",
       "      <td>2.126212</td>\n",
       "      <td>-0.400944</td>\n",
       "      <td>7</td>\n",
       "      <td>1.0</td>\n",
       "      <td>0.0</td>\n",
       "      <td>1.0</td>\n",
       "      <td>0.0</td>\n",
       "      <td>1.0</td>\n",
       "      <td>0.0</td>\n",
       "      <td>0.0</td>\n",
       "      <td>-0.573356</td>\n",
       "    </tr>\n",
       "    <tr>\n",
       "      <th>91</th>\n",
       "      <td>-1.523379</td>\n",
       "      <td>1</td>\n",
       "      <td>0.120763</td>\n",
       "      <td>0.440837</td>\n",
       "      <td>1</td>\n",
       "      <td>1.0</td>\n",
       "      <td>0.0</td>\n",
       "      <td>1.0</td>\n",
       "      <td>0.0</td>\n",
       "      <td>1.0</td>\n",
       "      <td>0.0</td>\n",
       "      <td>0.0</td>\n",
       "      <td>0.110361</td>\n",
       "    </tr>\n",
       "    <tr>\n",
       "      <th>808</th>\n",
       "      <td>0.857185</td>\n",
       "      <td>0</td>\n",
       "      <td>-0.348673</td>\n",
       "      <td>-0.495644</td>\n",
       "      <td>7</td>\n",
       "      <td>1.0</td>\n",
       "      <td>0.0</td>\n",
       "      <td>1.0</td>\n",
       "      <td>0.0</td>\n",
       "      <td>1.0</td>\n",
       "      <td>0.0</td>\n",
       "      <td>0.0</td>\n",
       "      <td>-0.573356</td>\n",
       "    </tr>\n",
       "  </tbody>\n",
       "</table>\n",
       "</div>"
      ],
      "text/plain": [
       "       pclass  survived       age      fare  cabin  sex_male  embarked_Q  \\\n",
       "829  0.857185         0 -1.036227  0.247610      7       0.0         0.0   \n",
       "889  0.857185         1 -0.264901 -0.500905      7       1.0         0.0   \n",
       "330 -0.333097         0  2.126212 -0.400944      7       1.0         0.0   \n",
       "91  -1.523379         1  0.120763  0.440837      1       1.0         0.0   \n",
       "808  0.857185         0 -0.348673 -0.495644      7       1.0         0.0   \n",
       "\n",
       "     embarked_S  title_Miss  title_Mr  title_Mrs  title_Others  family.size  \n",
       "829         1.0         1.0       0.0        0.0           0.0     4.212663  \n",
       "889         1.0         0.0       1.0        0.0           0.0    -0.573356  \n",
       "330         1.0         0.0       1.0        0.0           0.0    -0.573356  \n",
       "91          1.0         0.0       1.0        0.0           0.0     0.110361  \n",
       "808         1.0         0.0       1.0        0.0           0.0    -0.573356  "
      ]
     },
     "execution_count": 4456,
     "metadata": {},
     "output_type": "execute_result"
    }
   ],
   "source": [
    "from sklearn.preprocessing import StandardScaler\n",
    "\n",
    "num_features = [\"family.size\", \"pclass\", \"age\", \"fare\"]  \n",
    "\n",
    "scaler = StandardScaler()\n",
    "train_df[num_features] = scaler.fit_transform(train_df[num_features])\n",
    "validation_df[num_features] = scaler.fit_transform(validation_df[num_features])\n",
    "test_df[num_features] = scaler.fit_transform(test_df[num_features])\n",
    "\n",
    "train_df.head(5)"
   ]
  },
  {
   "cell_type": "code",
   "execution_count": 4457,
   "metadata": {},
   "outputs": [],
   "source": [
    "train_df['age_pclass_interaction'] = train_df['age'] * train_df['pclass']\n",
    "train_df['age_pclass_interaction'] = scaler.fit_transform(train_df[['age_pclass_interaction']])\n",
    "\n",
    "validation_df['age_pclass_interaction'] = validation_df['age'] * validation_df['pclass']\n",
    "validation_df['age_pclass_interaction'] = scaler.fit_transform(validation_df[['age_pclass_interaction']])\n",
    "\n",
    "test_df['age_pclass_interaction'] = test_df['age'] * test_df['pclass']\n",
    "test_df['age_pclass_interaction'] = scaler.fit_transform(test_df[['age_pclass_interaction']])"
   ]
  },
  {
   "cell_type": "markdown",
   "metadata": {},
   "source": [
    "DO A PLOT"
   ]
  },
  {
   "cell_type": "markdown",
   "metadata": {},
   "source": [
    "## 6. Addressing Class Imbalance"
   ]
  },
  {
   "cell_type": "markdown",
   "metadata": {},
   "source": [
    "Splitting data: \n",
    "● Rules of thumb to estimate the number of training examples needed for a problem:\n",
    "○ 10 times the amount of features (often exaggerates the training set size, works as an upper bound) -> 10 x 7 = 70\n",
    "○ 100 or 1000 times the number of classes (often underestimates the size) -> 200 a 2000\n",
    "\n",
    "adasyn \n",
    "1600 records or \n",
    "\n",
    "smote\n",
    "1018 records aprox"
   ]
  },
  {
   "cell_type": "code",
   "execution_count": 4458,
   "metadata": {},
   "outputs": [],
   "source": [
    "# Feature and Target division\n",
    "x_train = train_df.drop(columns=['survived'])\n",
    "y_train = train_df['survived']\n",
    "\n",
    "x_val = validation_df.drop(columns=['survived'])\n",
    "y_val = validation_df['survived']\n",
    "\n",
    "x_test = test_df.drop(columns=['survived'])\n",
    "y_test = test_df['survived']"
   ]
  },
  {
   "cell_type": "code",
   "execution_count": 4459,
   "metadata": {},
   "outputs": [],
   "source": [
    "#smote\n",
    "smote = SMOTE(sampling_strategy='auto', random_state=2025, k_neighbors=5)\n",
    "x_train_smote, y_train_smote = smote.fit_resample(x_train, y_train)\n",
    "\n",
    "#'auto' is equivalent to 'not majority', meaning it resamples only the minority class to match the majority class."
   ]
  },
  {
   "cell_type": "code",
   "execution_count": 4460,
   "metadata": {},
   "outputs": [],
   "source": [
    "#adasyn\n",
    "#adasyn = ADASYN(sampling_strategy='auto', random_state=2025)\n",
    "#x_train_adasyn, y_train_adasyn = adasyn.fit_resample(x_train, y_train)\n"
   ]
  },
  {
   "cell_type": "markdown",
   "metadata": {},
   "source": [
    "## 7. Feature Selection"
   ]
  },
  {
   "cell_type": "markdown",
   "metadata": {},
   "source": [
    "#### HeatMap"
   ]
  },
  {
   "cell_type": "code",
   "execution_count": 4461,
   "metadata": {},
   "outputs": [],
   "source": [
    "#Ver si tengo que hacer todo el correlation map y eso con los datos despues de adasyn y smote o antes"
   ]
  },
  {
   "cell_type": "markdown",
   "metadata": {},
   "source": [
    "En lugar de crear muchas columnas para cada letra de cabina, puedes agrupar las cabinas en categorías más generales que tengan sentido para tu análisis. Por ejemplo:\n",
    "\n",
    "Primera clase, segunda clase, tercera clase (si las cabinas están relacionadas con la clase del pasajero).\n",
    "Cabinas cercanas al puente (A, B, C) y cabinas más alejadas (D, E, F, etc.).\n",
    "Cabinas con \"Unknown\" (para aquellas sin un valor claro)."
   ]
  },
  {
   "cell_type": "code",
   "execution_count": 4462,
   "metadata": {},
   "outputs": [
    {
     "data": {
      "image/png": "[encoded data removed]",
      "text/plain": [
       "<Figure size 1000x800 with 2 Axes>"
      ]
     },
     "metadata": {},
     "output_type": "display_data"
    }
   ],
   "source": [
    "# Lista de columnas que deseas incluir en el heatmap\n",
    "selected_columns = ['survived', 'sex_male', 'pclass', 'embarked_S', 'family.size']\n",
    "#selected_columns += [col for col in df.columns if col.startswith('title_')]\n",
    "\n",
    "# Seleccionar solo las columnas de interés\n",
    "df_selected = train_df[selected_columns]\n",
    "\n",
    "# Calcular la matriz de correlación entre las columnas seleccionadas\n",
    "correlation_matrix = df_selected.corr()\n",
    "\n",
    "# Visualizar la matriz de correlación con un heatmap\n",
    "\n",
    "plt.figure(figsize=(10, 8))\n",
    "sns.heatmap(correlation_matrix, annot=True, cmap='coolwarm', fmt='.2f')\n",
    "plt.show()\n"
   ]
  },
  {
   "cell_type": "markdown",
   "metadata": {},
   "source": [
    "Since pclass is hoghly correlated with fare and more correlated with survived than fare -> drop fare\n",
    "Pero pclass esta mas correlated con cabin que fare\n",
    "parch is also pretty correlated with sibsp -> put together\n",
    "\n",
    "WHY DROPPING FARE?\n",
    "\n",
    "1. pclass is more correlated with survived than fare\n",
    "\n",
    "Since your goal is to predict survival, you should keep the features that have the strongest correlation with survived.\n",
    "\n",
    "If pclass has a higher correlation with survived than fare, then pclass is likely the more important predictor.\n",
    "\n",
    "2. pclass is also more correlated with cabin\n",
    "\n",
    "If pclass is highly correlated with cabin, this suggests that pclass captures important structural information about where passengers were located on the ship.\n",
    "\n",
    "cabin itself is an important feature because higher-class passengers were likely to have better access to lifeboats.\n",
    "\n",
    "3. Multicollinearity Issue\n",
    "If fare and pclass are highly correlated, including both could introduce multicollinearity, which can make models unstable and harder to interpret.\n",
    "\n",
    "Since pclass is categorical and represents a clear distinction between socioeconomic groups, it is often more informative than fare, which can have more variability and outliers.\n",
    "\n"
   ]
  },
  {
   "cell_type": "code",
   "execution_count": null,
   "metadata": {},
   "outputs": [
    {
     "data": {
      "image/png": "[encoded data removed]",
      "text/plain": [
       "<Figure size 1000x800 with 2 Axes>"
      ]
     },
     "metadata": {},
     "output_type": "display_data"
    }
   ],
   "source": [
    "selected_columns = ['survived', 'pclass', 'cabin']\n",
    "#selected_columns += [col for col in df.columns if col.startswith('cabin_')]\n",
    "\n",
    "df_selected = df[selected_columns]\n",
    "\n",
    "# Calcular la matriz de correlación entre las columnas seleccionadas\n",
    "correlation_matrix = df_selected.corr()\n",
    "\n",
    "# Visualizar la matriz de correlación con un heatmap\n",
    "import seaborn as sns\n",
    "import matplotlib.pyplot as plt\n",
    "\n",
    "plt.figure(figsize=(10, 8))\n",
    "sns.heatmap(correlation_matrix, annot=True, cmap='coolwarm', fmt='.2f')\n",
    "plt.show()"
   ]
  },
  {
   "cell_type": "markdown",
   "metadata": {},
   "source": [
    "#### PClass"
   ]
  },
  {
   "cell_type": "code",
   "execution_count": 4464,
   "metadata": {},
   "outputs": [
    {
     "name": "stdout",
     "output_type": "stream",
     "text": [
      "cabin\n",
      "A    50.000000\n",
      "B    72.307692\n",
      "C    60.638298\n",
      "D    69.565217\n",
      "E    73.170732\n",
      "F    61.904762\n",
      "G    60.000000\n",
      "T     0.000000\n",
      "U    30.276134\n",
      "Name: survived, dtype: float64\n"
     ]
    }
   ],
   "source": [
    "#Percentage of Survival within each Cabin\n",
    "survival_percentage_by_cabin = df_copy.groupby('cabin')['survived'].mean() * 100\n",
    "print(survival_percentage_by_cabin)"
   ]
  },
  {
   "cell_type": "markdown",
   "metadata": {},
   "source": [
    "El porcentaje de supervivientes en cuanto al total marcado por grupo"
   ]
  },
  {
   "cell_type": "markdown",
   "metadata": {},
   "source": [
    "All but two lifeboats were situated on the Boat Deck, the highest deck of Titanic. \n",
    "-Wikipedia"
   ]
  },
  {
   "cell_type": "code",
   "execution_count": 4465,
   "metadata": {},
   "outputs": [
    {
     "data": {
      "image/png": "[encoded data removed]",
      "text/plain": [
       "<Figure size 1000x800 with 2 Axes>"
      ]
     },
     "metadata": {},
     "output_type": "display_data"
    }
   ],
   "source": [
    "df_copy['cabin_grouped'] = np.where(df_copy['cabin'].isin(['A', 'B', 'C']), 'ABC', 'Others')\n",
    "\n",
    "# Step 2: Perform One-Hot Encoding for 'cabin_grouped'\n",
    "df_copy_encoded = pd.get_dummies(df_copy, columns=['cabin_grouped'], drop_first=False)\n",
    "\n",
    "# Step 3: Select the columns of interest (including 'survived' and the encoded 'cabin_grouped')\n",
    "selected_columns = ['survived', 'pclass'] + [col for col in df_copy_encoded.columns if col.startswith('cabin_grouped_')]\n",
    "\n",
    "df_selected = df_copy_encoded[selected_columns]\n",
    "\n",
    "# Step 4: Calculate the correlation matrix\n",
    "correlation_matrix = df_selected.corr()\n",
    "\n",
    "# Step 5: Plot the heatmap\n",
    "plt.figure(figsize=(10, 8))\n",
    "sns.heatmap(correlation_matrix, annot=True, cmap='coolwarm', fmt='.2f')\n",
    "plt.show()"
   ]
  },
  {
   "cell_type": "markdown",
   "metadata": {},
   "source": [
    "#### Name"
   ]
  },
  {
   "cell_type": "markdown",
   "metadata": {},
   "source": [
    "Done in feature encoding"
   ]
  },
  {
   "cell_type": "markdown",
   "metadata": {},
   "source": [
    "7. FEATURE SELECTION Name:\n",
    "No tiene valor predictivo: Los nombres son aleatorios y no tienen relación con la supervivencia. No contribuirán positivamente a un modelo.\n",
    "Ruido: Mantenerla solo agregaría complejidad y ruido innecesario al modelo, ya que no está relacionada con los patrones de supervivencia.\n",
    "Extraer informacion de Miss, Master, Mr., Mrs., Capt., Dr., Major., Mme., Lady., Sir., Col., Dona., Jonkheer"
   ]
  },
  {
   "cell_type": "code",
   "execution_count": 4466,
   "metadata": {},
   "outputs": [],
   "source": [
    "#Cabin: misssing values \n",
    "#What is parch?, sibsp?\n",
    "\n",
    "\n",
    "#Family number: sum parch and sibsp\n",
    "\n",
    "#COLUMNS TO DROP:\n",
    "#Boat -> NaN -> Tiene valor si sobrevivieron -> DATA LEARKAGE DROP!!!\n",
    "#Survived\n",
    "#Body: Number if survived -> DROP \n",
    "\n",
    "#home.dset -> NaN\n",
    "#"
   ]
  },
  {
   "cell_type": "code",
   "execution_count": null,
   "metadata": {},
   "outputs": [],
   "source": []
  },
  {
   "cell_type": "markdown",
   "metadata": {},
   "source": [
    "## 8. Training a Logistic Regression Model"
   ]
  },
  {
   "cell_type": "markdown",
   "metadata": {},
   "source": [
    "Drop fare\n",
    "Drop home destination\n",
    "Add Family Column from sibsp and parch\n",
    "Add Title from name\n",
    "\n",
    "pclass\ttitle  sex\tage\tfamily\tticket\tcabin\tembarked"
   ]
  },
  {
   "cell_type": "code",
   "execution_count": null,
   "metadata": {},
   "outputs": [
    {
     "name": "stdout",
     "output_type": "stream",
     "text": [
      "Accuracy: 0.7862595419847328\n",
      "Classification Report:\n",
      "              precision    recall  f1-score   support\n",
      "\n",
      "           0       0.90      0.74      0.81        81\n",
      "           1       0.67      0.86      0.75        50\n",
      "\n",
      "    accuracy                           0.79       131\n",
      "   macro avg       0.78      0.80      0.78       131\n",
      "weighted avg       0.81      0.79      0.79       131\n",
      "\n",
      "Confusion Matrix:\n",
      "[[60 21]\n",
      " [ 7 43]]\n"
     ]
    }
   ],
   "source": [
    "model = LogisticRegression(max_iter=1000)  \n",
    "\n",
    "model.fit(x_train_smote, y_train_smote)\n",
    "\n",
    "# Predictions\n",
    "y_pred = model.predict(x_test)\n",
    "\n",
    "# Evaluation\n",
    "print(f\"Accuracy: {accuracy_score(y_test, y_pred)}\")\n",
    "\n",
    "print(\"Classification Report:\")\n",
    "print(classification_report(y_test, y_pred))\n",
    "\n",
    "print(\"Confusion Matrix:\")\n",
    "print(confusion_matrix(y_test, y_pred))"
   ]
  }
 ],
 "metadata": {
  "kernelspec": {
   "display_name": "venv",
   "language": "python",
   "name": "python3"
  },
  "language_info": {
   "codemirror_mode": {
    "name": "ipython",
    "version": 3
   },
   "file_extension": ".py",
   "mimetype": "text/x-python",
   "name": "python",
   "nbconvert_exporter": "python",
   "pygments_lexer": "ipython3",
   "version": "3.11.8"
  }
 },
 "nbformat": 4,
 "nbformat_minor": 2
}
